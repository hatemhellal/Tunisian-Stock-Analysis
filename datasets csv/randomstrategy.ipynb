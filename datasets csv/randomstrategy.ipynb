{
 "cells": [
  {
   "cell_type": "code",
   "execution_count": 1,
   "metadata": {
    "collapsed": true
   },
   "outputs": [],
   "source": [
    "import pandas as pd"
   ]
  },
  {
   "cell_type": "code",
   "execution_count": 2,
   "outputs": [],
   "source": [
    "df=pd.read_csv(\"biat.csv\")"
   ],
   "metadata": {
    "collapsed": false,
    "pycharm": {
     "name": "#%%\n"
    }
   }
  },
  {
   "cell_type": "code",
   "execution_count": 3,
   "outputs": [
    {
     "data": {
      "text/plain": "Index(['Date Time', 'Open', 'High', 'Low', 'Close', 'Volume', 'Adj Close'], dtype='object')"
     },
     "execution_count": 3,
     "metadata": {},
     "output_type": "execute_result"
    }
   ],
   "source": [
    "df.columns"
   ],
   "metadata": {
    "collapsed": false,
    "pycharm": {
     "name": "#%%\n"
    }
   }
  },
  {
   "cell_type": "code",
   "execution_count": 4,
   "outputs": [],
   "source": [
    "df[\"average\"]=(df.High+df.Low)/2"
   ],
   "metadata": {
    "collapsed": false,
    "pycharm": {
     "name": "#%%\n"
    }
   }
  },
  {
   "cell_type": "code",
   "execution_count": 5,
   "outputs": [
    {
     "data": {
      "text/plain": "      Date Time  Open  High   Low  Close  Volume  Adj Close  average\n0    2016-01-21  6.10  6.10  6.10   6.10     250       6.10    6.100\n1    2016-01-22  5.95  6.05  5.93   6.05    2569       6.05    5.990\n2    2016-01-25  5.78  5.99  5.78   5.90    9990       5.90    5.885\n3    2016-01-26  5.78  5.99  5.73   5.78   12260       5.78    5.860\n4    2016-01-27  5.78  5.78  5.74   5.74    1194       5.74    5.760\n..          ...   ...   ...   ...    ...     ...        ...      ...\n257  2020-12-25  2.10  2.10  2.04   2.05   26369       2.05    2.070\n258  2020-12-28  2.04  2.05  1.98   2.00   56140       2.00    2.015\n259  2020-12-29  2.02  2.02  1.98   2.02   22534       2.02    2.000\n260  2020-12-30  2.04  2.04  1.98   2.01    1383       2.01    2.010\n261  2020-12-31  2.03  2.03  1.98   2.01   13982       2.01    2.005\n\n[262 rows x 8 columns]",
      "text/html": "<div>\n<style scoped>\n    .dataframe tbody tr th:only-of-type {\n        vertical-align: middle;\n    }\n\n    .dataframe tbody tr th {\n        vertical-align: top;\n    }\n\n    .dataframe thead th {\n        text-align: right;\n    }\n</style>\n<table border=\"1\" class=\"dataframe\">\n  <thead>\n    <tr style=\"text-align: right;\">\n      <th></th>\n      <th>Date Time</th>\n      <th>Open</th>\n      <th>High</th>\n      <th>Low</th>\n      <th>Close</th>\n      <th>Volume</th>\n      <th>Adj Close</th>\n      <th>average</th>\n    </tr>\n  </thead>\n  <tbody>\n    <tr>\n      <th>0</th>\n      <td>2016-01-21</td>\n      <td>6.10</td>\n      <td>6.10</td>\n      <td>6.10</td>\n      <td>6.10</td>\n      <td>250</td>\n      <td>6.10</td>\n      <td>6.100</td>\n    </tr>\n    <tr>\n      <th>1</th>\n      <td>2016-01-22</td>\n      <td>5.95</td>\n      <td>6.05</td>\n      <td>5.93</td>\n      <td>6.05</td>\n      <td>2569</td>\n      <td>6.05</td>\n      <td>5.990</td>\n    </tr>\n    <tr>\n      <th>2</th>\n      <td>2016-01-25</td>\n      <td>5.78</td>\n      <td>5.99</td>\n      <td>5.78</td>\n      <td>5.90</td>\n      <td>9990</td>\n      <td>5.90</td>\n      <td>5.885</td>\n    </tr>\n    <tr>\n      <th>3</th>\n      <td>2016-01-26</td>\n      <td>5.78</td>\n      <td>5.99</td>\n      <td>5.73</td>\n      <td>5.78</td>\n      <td>12260</td>\n      <td>5.78</td>\n      <td>5.860</td>\n    </tr>\n    <tr>\n      <th>4</th>\n      <td>2016-01-27</td>\n      <td>5.78</td>\n      <td>5.78</td>\n      <td>5.74</td>\n      <td>5.74</td>\n      <td>1194</td>\n      <td>5.74</td>\n      <td>5.760</td>\n    </tr>\n    <tr>\n      <th>...</th>\n      <td>...</td>\n      <td>...</td>\n      <td>...</td>\n      <td>...</td>\n      <td>...</td>\n      <td>...</td>\n      <td>...</td>\n      <td>...</td>\n    </tr>\n    <tr>\n      <th>257</th>\n      <td>2020-12-25</td>\n      <td>2.10</td>\n      <td>2.10</td>\n      <td>2.04</td>\n      <td>2.05</td>\n      <td>26369</td>\n      <td>2.05</td>\n      <td>2.070</td>\n    </tr>\n    <tr>\n      <th>258</th>\n      <td>2020-12-28</td>\n      <td>2.04</td>\n      <td>2.05</td>\n      <td>1.98</td>\n      <td>2.00</td>\n      <td>56140</td>\n      <td>2.00</td>\n      <td>2.015</td>\n    </tr>\n    <tr>\n      <th>259</th>\n      <td>2020-12-29</td>\n      <td>2.02</td>\n      <td>2.02</td>\n      <td>1.98</td>\n      <td>2.02</td>\n      <td>22534</td>\n      <td>2.02</td>\n      <td>2.000</td>\n    </tr>\n    <tr>\n      <th>260</th>\n      <td>2020-12-30</td>\n      <td>2.04</td>\n      <td>2.04</td>\n      <td>1.98</td>\n      <td>2.01</td>\n      <td>1383</td>\n      <td>2.01</td>\n      <td>2.010</td>\n    </tr>\n    <tr>\n      <th>261</th>\n      <td>2020-12-31</td>\n      <td>2.03</td>\n      <td>2.03</td>\n      <td>1.98</td>\n      <td>2.01</td>\n      <td>13982</td>\n      <td>2.01</td>\n      <td>2.005</td>\n    </tr>\n  </tbody>\n</table>\n<p>262 rows × 8 columns</p>\n</div>"
     },
     "execution_count": 5,
     "metadata": {},
     "output_type": "execute_result"
    }
   ],
   "source": [
    "df"
   ],
   "metadata": {
    "collapsed": false,
    "pycharm": {
     "name": "#%%\n"
    }
   }
  },
  {
   "cell_type": "code",
   "execution_count": 9,
   "outputs": [],
   "source": [
    "df_test = df[['Close',\"Open\",'average']]"
   ],
   "metadata": {
    "collapsed": false,
    "pycharm": {
     "name": "#%%\n"
    }
   }
  },
  {
   "cell_type": "code",
   "execution_count": 10,
   "outputs": [
    {
     "data": {
      "text/plain": "     Close  Open  average\n0     6.10  6.10    6.100\n1     6.05  5.95    5.990\n2     5.90  5.78    5.885\n3     5.78  5.78    5.860\n4     5.74  5.78    5.760\n..     ...   ...      ...\n257   2.05  2.10    2.070\n258   2.00  2.04    2.015\n259   2.02  2.02    2.000\n260   2.01  2.04    2.010\n261   2.01  2.03    2.005\n\n[262 rows x 3 columns]",
      "text/html": "<div>\n<style scoped>\n    .dataframe tbody tr th:only-of-type {\n        vertical-align: middle;\n    }\n\n    .dataframe tbody tr th {\n        vertical-align: top;\n    }\n\n    .dataframe thead th {\n        text-align: right;\n    }\n</style>\n<table border=\"1\" class=\"dataframe\">\n  <thead>\n    <tr style=\"text-align: right;\">\n      <th></th>\n      <th>Close</th>\n      <th>Open</th>\n      <th>average</th>\n    </tr>\n  </thead>\n  <tbody>\n    <tr>\n      <th>0</th>\n      <td>6.10</td>\n      <td>6.10</td>\n      <td>6.100</td>\n    </tr>\n    <tr>\n      <th>1</th>\n      <td>6.05</td>\n      <td>5.95</td>\n      <td>5.990</td>\n    </tr>\n    <tr>\n      <th>2</th>\n      <td>5.90</td>\n      <td>5.78</td>\n      <td>5.885</td>\n    </tr>\n    <tr>\n      <th>3</th>\n      <td>5.78</td>\n      <td>5.78</td>\n      <td>5.860</td>\n    </tr>\n    <tr>\n      <th>4</th>\n      <td>5.74</td>\n      <td>5.78</td>\n      <td>5.760</td>\n    </tr>\n    <tr>\n      <th>...</th>\n      <td>...</td>\n      <td>...</td>\n      <td>...</td>\n    </tr>\n    <tr>\n      <th>257</th>\n      <td>2.05</td>\n      <td>2.10</td>\n      <td>2.070</td>\n    </tr>\n    <tr>\n      <th>258</th>\n      <td>2.00</td>\n      <td>2.04</td>\n      <td>2.015</td>\n    </tr>\n    <tr>\n      <th>259</th>\n      <td>2.02</td>\n      <td>2.02</td>\n      <td>2.000</td>\n    </tr>\n    <tr>\n      <th>260</th>\n      <td>2.01</td>\n      <td>2.04</td>\n      <td>2.010</td>\n    </tr>\n    <tr>\n      <th>261</th>\n      <td>2.01</td>\n      <td>2.03</td>\n      <td>2.005</td>\n    </tr>\n  </tbody>\n</table>\n<p>262 rows × 3 columns</p>\n</div>"
     },
     "execution_count": 10,
     "metadata": {},
     "output_type": "execute_result"
    }
   ],
   "source": [
    "df_test"
   ],
   "metadata": {
    "collapsed": false,
    "pycharm": {
     "name": "#%%\n"
    }
   }
  },
  {
   "cell_type": "code",
   "execution_count": 11,
   "outputs": [],
   "source": [
    "from sklearn.model_selection import train_test_split\n",
    "X_train, X_test, y_train, y_test = train_test_split(df_test[['Close',\"Open\"]], df_test[['average']], test_size=.2)"
   ],
   "metadata": {
    "collapsed": false,
    "pycharm": {
     "name": "#%%\n"
    }
   }
  },
  {
   "cell_type": "code",
   "execution_count": 12,
   "outputs": [
    {
     "data": {
      "text/plain": "LinearRegression()"
     },
     "execution_count": 12,
     "metadata": {},
     "output_type": "execute_result"
    }
   ],
   "source": [
    "from sklearn.linear_model import LinearRegression\n",
    "# Create Regression Model\n",
    "model = LinearRegression()\n",
    "# Train the model\n",
    "model.fit(X_train, y_train)"
   ],
   "metadata": {
    "collapsed": false,
    "pycharm": {
     "name": "#%%\n"
    }
   }
  },
  {
   "cell_type": "code",
   "execution_count": 13,
   "outputs": [],
   "source": [
    "y_pred=model.predict(X_test)"
   ],
   "metadata": {
    "collapsed": false,
    "pycharm": {
     "name": "#%%\n"
    }
   }
  },
  {
   "cell_type": "code",
   "execution_count": 14,
   "outputs": [],
   "source": [
    "y_test.reset_index(drop=True,inplace=True)"
   ],
   "metadata": {
    "collapsed": false,
    "pycharm": {
     "name": "#%%\n"
    }
   }
  },
  {
   "cell_type": "code",
   "execution_count": null,
   "outputs": [],
   "source": [],
   "metadata": {
    "collapsed": false,
    "pycharm": {
     "name": "#%%\n"
    }
   }
  },
  {
   "cell_type": "code",
   "execution_count": 15,
   "outputs": [
    {
     "name": "stdout",
     "output_type": "stream",
     "text": [
      "la valeur predit  de moyenne est [0.56843421] contre average    0.57\n",
      "Name: 0, dtype: float64\n",
      "la valeur predit  de moyenne est [8.17801232] contre average    8.19\n",
      "Name: 1, dtype: float64\n",
      "la valeur predit  de moyenne est [7.54358403] contre average    7.555\n",
      "Name: 2, dtype: float64\n",
      "la valeur predit  de moyenne est [7.08969386] contre average    7.235\n",
      "Name: 3, dtype: float64\n",
      "la valeur predit  de moyenne est [-0.00080285] contre average    0.0\n",
      "Name: 4, dtype: float64\n",
      "la valeur predit  de moyenne est [8.09440595] contre average    8.105\n",
      "Name: 5, dtype: float64\n",
      "la valeur predit  de moyenne est [7.86393476] contre average    7.875\n",
      "Name: 6, dtype: float64\n",
      "la valeur predit  de moyenne est [8.33802074] contre average    8.35\n",
      "Name: 7, dtype: float64\n",
      "la valeur predit  de moyenne est [7.91420171] contre average    7.915\n",
      "Name: 8, dtype: float64\n",
      "la valeur predit  de moyenne est [0.57853211] contre average    0.59\n",
      "Name: 9, dtype: float64\n",
      "la valeur predit  de moyenne est [2.16168884] contre average    2.165\n",
      "Name: 10, dtype: float64\n",
      "la valeur predit  de moyenne est [1.85693014] contre average    1.885\n",
      "Name: 11, dtype: float64\n",
      "la valeur predit  de moyenne est [2.09694278] contre average    2.08\n",
      "Name: 12, dtype: float64\n",
      "la valeur predit  de moyenne est [-0.00080285] contre average    0.0\n",
      "Name: 13, dtype: float64\n",
      "la valeur predit  de moyenne est [-0.00080285] contre average    0.0\n",
      "Name: 14, dtype: float64\n",
      "la valeur predit  de moyenne est [6.50564381] contre average    6.505\n",
      "Name: 15, dtype: float64\n",
      "la valeur predit  de moyenne est [5.57083802] contre average    5.58\n",
      "Name: 16, dtype: float64\n",
      "la valeur predit  de moyenne est [0.48854129] contre average    0.485\n",
      "Name: 17, dtype: float64\n",
      "la valeur predit  de moyenne est [6.01214106] contre average    6.02\n",
      "Name: 18, dtype: float64\n",
      "la valeur predit  de moyenne est [8.77149251] contre average    8.775\n",
      "Name: 19, dtype: float64\n",
      "la valeur predit  de moyenne est [8.75790375] contre average    8.77\n",
      "Name: 20, dtype: float64\n",
      "la valeur predit  de moyenne est [8.90592229] contre average    8.905\n",
      "Name: 21, dtype: float64\n",
      "la valeur predit  de moyenne est [-0.00080285] contre average    0.0\n",
      "Name: 22, dtype: float64\n",
      "la valeur predit  de moyenne est [0.58324719] contre average    0.585\n",
      "Name: 23, dtype: float64\n",
      "la valeur predit  de moyenne est [0.57830953] contre average    0.58\n",
      "Name: 24, dtype: float64\n",
      "la valeur predit  de moyenne est [2.09638632] contre average    2.11\n",
      "Name: 25, dtype: float64\n",
      "la valeur predit  de moyenne est [7.46918523] contre average    7.48\n",
      "Name: 26, dtype: float64\n",
      "la valeur predit  de moyenne est [0.5685455] contre average    0.57\n",
      "Name: 27, dtype: float64\n",
      "la valeur predit  de moyenne est [-0.00080285] contre average    0.0\n",
      "Name: 28, dtype: float64\n",
      "la valeur predit  de moyenne est [6.35046176] contre average    6.22\n",
      "Name: 29, dtype: float64\n",
      "la valeur predit  de moyenne est [8.79618082] contre average    8.79\n",
      "Name: 30, dtype: float64\n",
      "la valeur predit  de moyenne est [7.77249713] contre average    7.785\n",
      "Name: 31, dtype: float64\n",
      "la valeur predit  de moyenne est [-0.00080285] contre average    0.0\n",
      "Name: 32, dtype: float64\n",
      "la valeur predit  de moyenne est [9.28181151] contre average    9.295\n",
      "Name: 33, dtype: float64\n",
      "la valeur predit  de moyenne est [6.22679764] contre average    6.235\n",
      "Name: 34, dtype: float64\n",
      "la valeur predit  de moyenne est [4.60247024] contre average    4.63\n",
      "Name: 35, dtype: float64\n",
      "la valeur predit  de moyenne est [7.92856952] contre average    7.94\n",
      "Name: 36, dtype: float64\n",
      "la valeur predit  de moyenne est [8.66141716] contre average    8.675\n",
      "Name: 37, dtype: float64\n",
      "la valeur predit  de moyenne est [1.66224679] contre average    1.69\n",
      "Name: 38, dtype: float64\n",
      "la valeur predit  de moyenne est [0.50357686] contre average    0.505\n",
      "Name: 39, dtype: float64\n",
      "la valeur predit  de moyenne est [1.97665823] contre average    1.98\n",
      "Name: 40, dtype: float64\n",
      "la valeur predit  de moyenne est [-0.00080285] contre average    0.0\n",
      "Name: 41, dtype: float64\n",
      "la valeur predit  de moyenne est [-0.00080285] contre average    0.0\n",
      "Name: 42, dtype: float64\n",
      "la valeur predit  de moyenne est [0.51861242] contre average    0.52\n",
      "Name: 43, dtype: float64\n",
      "la valeur predit  de moyenne est [2.04645324] contre average    2.04\n",
      "Name: 44, dtype: float64\n",
      "la valeur predit  de moyenne est [9.23087681] contre average    9.24\n",
      "Name: 45, dtype: float64\n",
      "la valeur predit  de moyenne est [2.07136413] contre average    2.06\n",
      "Name: 46, dtype: float64\n",
      "la valeur predit  de moyenne est [7.46918523] contre average    7.48\n",
      "Name: 47, dtype: float64\n",
      "la valeur predit  de moyenne est [-0.00080285] contre average    0.0\n",
      "Name: 48, dtype: float64\n",
      "la valeur predit  de moyenne est [5.40566935] contre average    5.41\n",
      "Name: 49, dtype: float64\n",
      "la valeur predit  de moyenne est [8.28808767] contre average    8.325\n",
      "Name: 50, dtype: float64\n",
      "la valeur predit  de moyenne est [-0.00080285] contre average    0.0\n",
      "Name: 51, dtype: float64\n",
      "la valeur predit  de moyenne est [8.86370919] contre average    8.88\n",
      "Name: 52, dtype: float64\n"
     ]
    }
   ],
   "source": [
    "for i in range(len(y_pred)):\n",
    "    print(\"la valeur predit  de moyenne est \" + str(y_pred[i])+\" contre \"+str(y_test.iloc[i]))\n"
   ],
   "metadata": {
    "collapsed": false,
    "pycharm": {
     "name": "#%%\n"
    }
   }
  },
  {
   "cell_type": "code",
   "execution_count": 16,
   "outputs": [
    {
     "name": "stdout",
     "output_type": "stream",
     "text": [
      "Mean Squared Error: 0.0008481808531221801\n",
      "Mean Absolute Error: 0.013054058864171134\n",
      "Coefficient of Determination: 0.9999340605791981\n"
     ]
    }
   ],
   "source": [
    "from sklearn.metrics import mean_squared_error, r2_score, mean_absolute_error\n",
    "# Printout relevant metrics\n",
    "print(\"Mean Squared Error:\",mean_squared_error(y_test,y_pred))\n",
    "print(\"Mean Absolute Error:\", mean_absolute_error(y_test, y_pred))\n",
    "print(\"Coefficient of Determination:\", r2_score(y_test, y_pred))"
   ],
   "metadata": {
    "collapsed": false,
    "pycharm": {
     "name": "#%%\n"
    }
   }
  }
 ],
 "metadata": {
  "kernelspec": {
   "display_name": "Python 3",
   "language": "python",
   "name": "python3"
  },
  "language_info": {
   "codemirror_mode": {
    "name": "ipython",
    "version": 2
   },
   "file_extension": ".py",
   "mimetype": "text/x-python",
   "name": "python",
   "nbconvert_exporter": "python",
   "pygments_lexer": "ipython2",
   "version": "2.7.6"
  }
 },
 "nbformat": 4,
 "nbformat_minor": 0
}