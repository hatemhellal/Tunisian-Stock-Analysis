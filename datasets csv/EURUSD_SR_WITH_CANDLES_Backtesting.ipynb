{
 "cells": [
  {
   "cell_type": "markdown",
   "metadata": {},
   "source": [
    "# Resistance/Support AND Candles Patterns"
   ]
  },
  {
   "cell_type": "code",
   "execution_count": 15,
   "metadata": {},
   "outputs": [
    {
     "data": {
      "text/plain": "             SEANCE  GROUPE      CODE               VALEUR OUVERTURE CLOTURE  \\\n552344  31/12/2020     52.0  760001.0  SOTEMAIL                  0.0     0.0   \n552345  31/12/2020     52.0  766001.0  MAGHREB INTERN PUB        0.0     0.0   \n552346  31/12/2020     52.0  770001.0  OFFICEPLAST               0.0     0.0   \n552347  31/12/2020     52.0  773001.0  SANIMED                  1.75    1.75   \n552348  31/12/2020     99.0  503001.0  STIP                     0.92    0.92   \n\n       PLUS_BAS PLUS_HAUT  QUANTITE_NEGOCIEE  NB_TRANSACTION CAPITAUX IND_RES  \\\n552344      0.0       0.0                  0             0.0      0.0     NaN   \n552345      0.0       0.0                  0             0.0      0.0     NaN   \n552346      0.0       0.0                  0             0.0      0.0     NaN   \n552347     1.75      1.75               2300             6.0   4025.0       H   \n552348     0.92      0.92                400             1.0    368.0     NaN   \n\n        C_GR_RLC  CODE_VAL LIB_VAL COURS_REF COURS_VEILLE DERNIER_COURS  \\\n552344       NaN       NaN     NaN       NaN          NaN           NaN   \n552345       NaN       NaN     NaN       NaN          NaN           NaN   \n552346       NaN       NaN     NaN       NaN          NaN           NaN   \n552347       NaN       NaN     NaN       NaN          NaN           NaN   \n552348       NaN       NaN     NaN       NaN          NaN           NaN   \n\n        NB_TRAN    I  \n552344      NaN  NaN  \n552345      NaN  NaN  \n552346      NaN  NaN  \n552347      NaN  NaN  \n552348      NaN  NaN  ",
      "text/html": "<div>\n<style scoped>\n    .dataframe tbody tr th:only-of-type {\n        vertical-align: middle;\n    }\n\n    .dataframe tbody tr th {\n        vertical-align: top;\n    }\n\n    .dataframe thead th {\n        text-align: right;\n    }\n</style>\n<table border=\"1\" class=\"dataframe\">\n  <thead>\n    <tr style=\"text-align: right;\">\n      <th></th>\n      <th>SEANCE</th>\n      <th>GROUPE</th>\n      <th>CODE</th>\n      <th>VALEUR</th>\n      <th>OUVERTURE</th>\n      <th>CLOTURE</th>\n      <th>PLUS_BAS</th>\n      <th>PLUS_HAUT</th>\n      <th>QUANTITE_NEGOCIEE</th>\n      <th>NB_TRANSACTION</th>\n      <th>CAPITAUX</th>\n      <th>IND_RES</th>\n      <th>C_GR_RLC</th>\n      <th>CODE_VAL</th>\n      <th>LIB_VAL</th>\n      <th>COURS_REF</th>\n      <th>COURS_VEILLE</th>\n      <th>DERNIER_COURS</th>\n      <th>NB_TRAN</th>\n      <th>I</th>\n    </tr>\n  </thead>\n  <tbody>\n    <tr>\n      <th>552344</th>\n      <td>31/12/2020</td>\n      <td>52.0</td>\n      <td>760001.0</td>\n      <td>SOTEMAIL</td>\n      <td>0.0</td>\n      <td>0.0</td>\n      <td>0.0</td>\n      <td>0.0</td>\n      <td>0</td>\n      <td>0.0</td>\n      <td>0.0</td>\n      <td>NaN</td>\n      <td>NaN</td>\n      <td>NaN</td>\n      <td>NaN</td>\n      <td>NaN</td>\n      <td>NaN</td>\n      <td>NaN</td>\n      <td>NaN</td>\n      <td>NaN</td>\n    </tr>\n    <tr>\n      <th>552345</th>\n      <td>31/12/2020</td>\n      <td>52.0</td>\n      <td>766001.0</td>\n      <td>MAGHREB INTERN PUB</td>\n      <td>0.0</td>\n      <td>0.0</td>\n      <td>0.0</td>\n      <td>0.0</td>\n      <td>0</td>\n      <td>0.0</td>\n      <td>0.0</td>\n      <td>NaN</td>\n      <td>NaN</td>\n      <td>NaN</td>\n      <td>NaN</td>\n      <td>NaN</td>\n      <td>NaN</td>\n      <td>NaN</td>\n      <td>NaN</td>\n      <td>NaN</td>\n    </tr>\n    <tr>\n      <th>552346</th>\n      <td>31/12/2020</td>\n      <td>52.0</td>\n      <td>770001.0</td>\n      <td>OFFICEPLAST</td>\n      <td>0.0</td>\n      <td>0.0</td>\n      <td>0.0</td>\n      <td>0.0</td>\n      <td>0</td>\n      <td>0.0</td>\n      <td>0.0</td>\n      <td>NaN</td>\n      <td>NaN</td>\n      <td>NaN</td>\n      <td>NaN</td>\n      <td>NaN</td>\n      <td>NaN</td>\n      <td>NaN</td>\n      <td>NaN</td>\n      <td>NaN</td>\n    </tr>\n    <tr>\n      <th>552347</th>\n      <td>31/12/2020</td>\n      <td>52.0</td>\n      <td>773001.0</td>\n      <td>SANIMED</td>\n      <td>1.75</td>\n      <td>1.75</td>\n      <td>1.75</td>\n      <td>1.75</td>\n      <td>2300</td>\n      <td>6.0</td>\n      <td>4025.0</td>\n      <td>H</td>\n      <td>NaN</td>\n      <td>NaN</td>\n      <td>NaN</td>\n      <td>NaN</td>\n      <td>NaN</td>\n      <td>NaN</td>\n      <td>NaN</td>\n      <td>NaN</td>\n    </tr>\n    <tr>\n      <th>552348</th>\n      <td>31/12/2020</td>\n      <td>99.0</td>\n      <td>503001.0</td>\n      <td>STIP</td>\n      <td>0.92</td>\n      <td>0.92</td>\n      <td>0.92</td>\n      <td>0.92</td>\n      <td>400</td>\n      <td>1.0</td>\n      <td>368.0</td>\n      <td>NaN</td>\n      <td>NaN</td>\n      <td>NaN</td>\n      <td>NaN</td>\n      <td>NaN</td>\n      <td>NaN</td>\n      <td>NaN</td>\n      <td>NaN</td>\n      <td>NaN</td>\n    </tr>\n  </tbody>\n</table>\n</div>"
     },
     "execution_count": 15,
     "metadata": {},
     "output_type": "execute_result"
    }
   ],
   "source": [
    "import pandas as pd\n",
    "df2016=pd.read_csv(\"./histo_cotation_2016.csv\")\n",
    "df2017=pd.read_csv(\"./histo_cotation_2017.csv\")\n",
    "df2018=pd.read_csv(\"./histo_cotation_2018.csv\")\n",
    "df2019=pd.read_csv(\"./histo_cotation_2019.csv\")\n",
    "df2020=pd.read_csv(\"./histo_cotation_2020.csv\")\n",
    "df = pd.concat([df2016,df2017,df2018,df2019,df2020]).reset_index(drop=True)\n",
    "#Check if NA values are in data\n",
    "\n",
    "\n",
    "df.isna().sum()\n",
    "df.tail()"
   ]
  },
  {
   "cell_type": "markdown",
   "metadata": {},
   "source": [
    "# Support and Resistance FUNCTIONS"
   ]
  },
  {
   "cell_type": "code",
   "execution_count": 16,
   "metadata": {},
   "outputs": [],
   "source": [
    "def support(df1, l, n1, n2): #n1 n2 before and after candle l\n",
    "    for i in range(l-n1+1, l+1):\n",
    "        if(df1.PLUS_BAS[i]>df1.PLUS_BAS[i-1]):\n",
    "            return 0\n",
    "    for i in range(l+1,l+n2+1):\n",
    "        if(df1.PLUS_BAS[i]<df1.PLUS_BAS[i-1]):\n",
    "            return 0\n",
    "    return 1\n",
    "\n",
    "def resistance(df1, l, n1, n2): #n1 n2 before and after candle l\n",
    "    for i in range(l-n1+1, l+1):\n",
    "        if(df1.PLUS_HAUT[i]<df1.PLUS_HAUT[i-1]):\n",
    "            return 0\n",
    "    for i in range(l+1,l+n2+1):\n",
    "        if(df1.PLUS_HAUT[i]>df1.PLUS_HAUT[i-1]):\n",
    "            return 0\n",
    "    return 1"
   ]
  },
  {
   "cell_type": "code",
   "execution_count": 17,
   "metadata": {},
   "outputs": [],
   "source": [
    "length = len(df)\n",
    "high = list(df['PLUS_HAUT'])\n",
    "low = list(df['PLUS_BAS'])\n",
    "close = list(df['CLOTURE'])\n",
    "open = list(df['OUVERTURE'])\n",
    "bodydiff = [0] * length\n",
    "\n",
    "highdiff = [0] * length\n",
    "lowdiff = [0] * length\n",
    "ratio1 = [0] * length\n",
    "ratio2 = [0] * length\n",
    "\n",
    "def isEngulfing(l):\n",
    "    row=l\n",
    "    bodydiff[row] = abs(open[row]-close[row])\n",
    "    if bodydiff[row]<0.000001:\n",
    "        bodydiff[row]=0.000001      \n",
    "\n",
    "    bodydiffmin = 0.002\n",
    "    if (bodydiff[row]>bodydiffmin and bodydiff[row-1]>bodydiffmin and\n",
    "        open[row-1]<close[row-1] and\n",
    "        open[row]>close[row] and \n",
    "        (open[row]-close[row-1])>=-0e-5 and close[row]<open[row-1]): #+0e-5 -5e-5\n",
    "        return 1\n",
    "\n",
    "    elif(bodydiff[row]>bodydiffmin and bodydiff[row-1]>bodydiffmin and\n",
    "        open[row-1]>close[row-1] and\n",
    "        open[row]<close[row] and \n",
    "        (open[row]-close[row-1])<=+0e-5 and close[row]>open[row-1]):#-0e-5 +5e-5\n",
    "        return 2\n",
    "    else:\n",
    "        return 0\n",
    "       \n",
    "def isStar(l):\n",
    "    bodydiffmin = 0.0020\n",
    "    row=l\n",
    "    highdiff[row] = high[row]-max(open[row],close[row])\n",
    "    lowdiff[row] = min(open[row],close[row])-low[row]\n",
    "    bodydiff[row] = abs(open[row]-close[row])\n",
    "    if bodydiff[row]<0.000001:\n",
    "        bodydiff[row]=0.000001\n",
    "    ratio1[row] = highdiff[row]/bodydiff[row]\n",
    "    ratio2[row] = lowdiff[row]/bodydiff[row]\n",
    "\n",
    "    if (ratio1[row]>1 and lowdiff[row]<0.2*highdiff[row] and bodydiff[row]>bodydiffmin):# and open[row]>close[row]):\n",
    "        return 1\n",
    "    elif (ratio2[row]>1 and highdiff[row]<0.2*lowdiff[row] and bodydiff[row]>bodydiffmin):# and open[row]<close[row]):\n",
    "        return 2\n",
    "    else:\n",
    "        return 0\n",
    "    \n",
    "def closeResistance(l,levels,lim):\n",
    "    if len(levels)==0:\n",
    "        return 0\n",
    "    c1 = abs(df.PLUS_HAUT[l]-min(levels, key=lambda x:abs(x-df.PLUS_HAUT[l])))<=lim\n",
    "    c2 = abs(max(df.OUVERTURE[l],df.CLOTURE[l])-min(levels, key=lambda x:abs(x-df.PLUS_HAUT[l])))<=lim\n",
    "    c3 = min(df.OUVERTURE[l],df.CLOTURE[l])<min(levels, key=lambda x:abs(x-df.PLUS_HAUT[l]))\n",
    "    c4 = df.PLUS_BAS[l]<min(levels, key=lambda x:abs(x-df.PLUS_HAUT[l]))\n",
    "    if( (c1 or c2) and c3 and c4 ):\n",
    "        return 1\n",
    "    else:\n",
    "        return 0\n",
    "    \n",
    "def closeSupport(l,levels,lim):\n",
    "    if len(levels)==0:\n",
    "        return 0\n",
    "    c1 = abs(df.PLUS_BAS[l]-min(levels, key=lambda x:abs(x-df.PLUS_BAS[l])))<=lim\n",
    "    c2 = abs(min(df.OUVERTURE[l],df.CLOTURE[l])-min(levels, key=lambda x:abs(x-df.PLUS_BAS[l])))<=lim\n",
    "    c3 = max(df.OUVERTURE[l],df.CLOTURE[l])>min(levels, key=lambda x:abs(x-df.PLUS_BAS[l]))\n",
    "    c4 = df.PLUS_HAUT[l]>min(levels, key=lambda x:abs(x-df.PLUS_BAS[l]))\n",
    "    if( (c1 or c2) and c3 and c4 ):\n",
    "        return 1\n",
    "    else:\n",
    "        return 0"
   ]
  },
  {
   "cell_type": "code",
   "execution_count": 18,
   "metadata": {},
   "outputs": [
    {
     "ename": "TypeError",
     "evalue": "'<' not supported between instances of 'str' and 'float'",
     "output_type": "error",
     "traceback": [
      "\u001B[1;31m---------------------------------------------------------------------------\u001B[0m",
      "\u001B[1;31mTypeError\u001B[0m                                 Traceback (most recent call last)",
      "\u001B[1;32m<ipython-input-18-2448ad6ddd70>\u001B[0m in \u001B[0;36m<module>\u001B[1;34m\u001B[0m\n\u001B[0;32m      8\u001B[0m     \u001B[0mrr\u001B[0m \u001B[1;33m=\u001B[0m \u001B[1;33m[\u001B[0m\u001B[1;33m]\u001B[0m\u001B[1;33m\u001B[0m\u001B[1;33m\u001B[0m\u001B[0m\n\u001B[0;32m      9\u001B[0m     \u001B[1;32mfor\u001B[0m \u001B[0msubrow\u001B[0m \u001B[1;32min\u001B[0m \u001B[0mrange\u001B[0m\u001B[1;33m(\u001B[0m\u001B[0mrow\u001B[0m\u001B[1;33m-\u001B[0m\u001B[0mbackCandles\u001B[0m\u001B[1;33m+\u001B[0m\u001B[0mn1\u001B[0m\u001B[1;33m,\u001B[0m \u001B[0mrow\u001B[0m\u001B[1;33m+\u001B[0m\u001B[1;36m1\u001B[0m\u001B[1;33m)\u001B[0m\u001B[1;33m:\u001B[0m\u001B[1;33m\u001B[0m\u001B[1;33m\u001B[0m\u001B[0m\n\u001B[1;32m---> 10\u001B[1;33m         \u001B[1;32mif\u001B[0m \u001B[0msupport\u001B[0m\u001B[1;33m(\u001B[0m\u001B[0mdf\u001B[0m\u001B[1;33m,\u001B[0m \u001B[0msubrow\u001B[0m\u001B[1;33m,\u001B[0m \u001B[0mn1\u001B[0m\u001B[1;33m,\u001B[0m \u001B[0mn2\u001B[0m\u001B[1;33m)\u001B[0m\u001B[1;33m:\u001B[0m\u001B[1;33m\u001B[0m\u001B[1;33m\u001B[0m\u001B[0m\n\u001B[0m\u001B[0;32m     11\u001B[0m             \u001B[0mss\u001B[0m\u001B[1;33m.\u001B[0m\u001B[0mappend\u001B[0m\u001B[1;33m(\u001B[0m\u001B[0mdf\u001B[0m\u001B[1;33m.\u001B[0m\u001B[0mPLUS_BAS\u001B[0m\u001B[1;33m[\u001B[0m\u001B[0msubrow\u001B[0m\u001B[1;33m]\u001B[0m\u001B[1;33m)\u001B[0m\u001B[1;33m\u001B[0m\u001B[1;33m\u001B[0m\u001B[0m\n\u001B[0;32m     12\u001B[0m         \u001B[1;32mif\u001B[0m \u001B[0mresistance\u001B[0m\u001B[1;33m(\u001B[0m\u001B[0mdf\u001B[0m\u001B[1;33m,\u001B[0m \u001B[0msubrow\u001B[0m\u001B[1;33m,\u001B[0m \u001B[0mn1\u001B[0m\u001B[1;33m,\u001B[0m \u001B[0mn2\u001B[0m\u001B[1;33m)\u001B[0m\u001B[1;33m:\u001B[0m\u001B[1;33m\u001B[0m\u001B[1;33m\u001B[0m\u001B[0m\n",
      "\u001B[1;32m<ipython-input-16-105926ab07e6>\u001B[0m in \u001B[0;36msupport\u001B[1;34m(df1, l, n1, n2)\u001B[0m\n\u001B[0;32m      4\u001B[0m             \u001B[1;32mreturn\u001B[0m \u001B[1;36m0\u001B[0m\u001B[1;33m\u001B[0m\u001B[1;33m\u001B[0m\u001B[0m\n\u001B[0;32m      5\u001B[0m     \u001B[1;32mfor\u001B[0m \u001B[0mi\u001B[0m \u001B[1;32min\u001B[0m \u001B[0mrange\u001B[0m\u001B[1;33m(\u001B[0m\u001B[0ml\u001B[0m\u001B[1;33m+\u001B[0m\u001B[1;36m1\u001B[0m\u001B[1;33m,\u001B[0m\u001B[0ml\u001B[0m\u001B[1;33m+\u001B[0m\u001B[0mn2\u001B[0m\u001B[1;33m+\u001B[0m\u001B[1;36m1\u001B[0m\u001B[1;33m)\u001B[0m\u001B[1;33m:\u001B[0m\u001B[1;33m\u001B[0m\u001B[1;33m\u001B[0m\u001B[0m\n\u001B[1;32m----> 6\u001B[1;33m         \u001B[1;32mif\u001B[0m\u001B[1;33m(\u001B[0m\u001B[0mdf1\u001B[0m\u001B[1;33m.\u001B[0m\u001B[0mPLUS_BAS\u001B[0m\u001B[1;33m[\u001B[0m\u001B[0mi\u001B[0m\u001B[1;33m]\u001B[0m\u001B[1;33m<\u001B[0m\u001B[0mdf1\u001B[0m\u001B[1;33m.\u001B[0m\u001B[0mPLUS_BAS\u001B[0m\u001B[1;33m[\u001B[0m\u001B[0mi\u001B[0m\u001B[1;33m-\u001B[0m\u001B[1;36m1\u001B[0m\u001B[1;33m]\u001B[0m\u001B[1;33m)\u001B[0m\u001B[1;33m:\u001B[0m\u001B[1;33m\u001B[0m\u001B[1;33m\u001B[0m\u001B[0m\n\u001B[0m\u001B[0;32m      7\u001B[0m             \u001B[1;32mreturn\u001B[0m \u001B[1;36m0\u001B[0m\u001B[1;33m\u001B[0m\u001B[1;33m\u001B[0m\u001B[0m\n\u001B[0;32m      8\u001B[0m     \u001B[1;32mreturn\u001B[0m \u001B[1;36m1\u001B[0m\u001B[1;33m\u001B[0m\u001B[1;33m\u001B[0m\u001B[0m\n",
      "\u001B[1;31mTypeError\u001B[0m: '<' not supported between instances of 'str' and 'float'"
     ]
    }
   ],
   "source": [
    "n1=2\n",
    "n2=2\n",
    "backCandles=30\n",
    "signal = [0] * length\n",
    "\n",
    "for row in range(backCandles, len(df)-n2):\n",
    "    ss = []\n",
    "    rr = []\n",
    "    for subrow in range(row-backCandles+n1, row+1):\n",
    "        if support(df, subrow, n1, n2):\n",
    "            ss.append(df.PLUS_BAS[subrow])\n",
    "        if resistance(df, subrow, n1, n2):\n",
    "            rr.append(df.PLUS_HAUT[subrow])\n",
    "    #!!!! parameters\n",
    "    if ((isEngulfing(row)==1 or isStar(row)==1) and closeResistance(row, rr, 150e-5) ):#and df.RSI[row]<30\n",
    "        signal[row] = 1\n",
    "    elif((isEngulfing(row)==2 or isStar(row)==2) and closeSupport(row, ss, 150e-5)):#and df.RSI[row]>70\n",
    "        signal[row] = 2\n",
    "    else:\n",
    "        signal[row] = 0\n",
    "\n"
   ]
  },
  {
   "cell_type": "code",
   "execution_count": null,
   "metadata": {},
   "outputs": [],
   "source": [
    "df['signal']=signal"
   ]
  },
  {
   "cell_type": "code",
   "execution_count": null,
   "metadata": {},
   "outputs": [],
   "source": [
    "df[df['signal']==2].count()"
   ]
  },
  {
   "cell_type": "code",
   "execution_count": null,
   "metadata": {},
   "outputs": [],
   "source": []
  },
  {
   "cell_type": "code",
   "execution_count": null,
   "metadata": {},
   "outputs": [],
   "source": [
    "def SIGNAL():\n",
    "    return df.signal"
   ]
  },
  {
   "cell_type": "code",
   "execution_count": null,
   "metadata": {},
   "outputs": [],
   "source": [
    "#A new strategy needs to extend Strategy class and override its two abstract methods: init() and next().\n",
    "#Method init() is invoked before the strategy is run. Within it, one ideally precomputes in efficient, \n",
    "#vectorized manner whatever indicators and signals the strategy depends on.\n",
    "#Method next() is then iteratively called by the Backtest instance, once for each data point (data frame row), \n",
    "#simulating the incremental availability of each new full candlestick bar.\n",
    "\n",
    "#Note, backtesting.py cannot make decisions / trades within candlesticks — any new orders are executed on the\n",
    "#next candle's open (or the current candle's close if trade_on_close=True). \n",
    "#If you find yourself wishing to trade within candlesticks (e.g. daytrading), you instead need to begin \n",
    "#with more fine-grained (e.g. hourly) data."
   ]
  },
  {
   "cell_type": "code",
   "execution_count": null,
   "metadata": {},
   "outputs": [],
   "source": [
    "from backtesting import Strategy\n",
    "\n",
    "class MyCandlesStrat(Strategy):  \n",
    "    def init(self):\n",
    "        super().init()\n",
    "        self.signal1 = self.I(SIGNAL)\n",
    "\n",
    "    def next(self):\n",
    "        super().next() \n",
    "        if self.signal1==2:\n",
    "            sl1 = self.data.CLOTURE[-1] - 750e-4\n",
    "            tp1 = self.data.CLOTURE[-1] + 600e-4\n",
    "            self.buy(sl=sl1, tp=tp1)\n",
    "        elif self.signal1==1:\n",
    "            sl1 = self.data.CLOTURE[-1] + 750e-4\n",
    "            tp1 = self.data.CLOTURE[-1] - 600e-4\n",
    "            self.sell(sl=sl1, tp=tp1)"
   ]
  },
  {
   "cell_type": "code",
   "execution_count": null,
   "metadata": {},
   "outputs": [],
   "source": [
    "from backtesting import Backtest\n",
    "\n",
    "bt = Backtest(df, MyCandlesStrat, cash=500, commission=.08)\n",
    "stat = bt.run()\n",
    "stat\n",
    "\n"
   ]
  },
  {
   "cell_type": "code",
   "execution_count": null,
   "metadata": {},
   "outputs": [],
   "source": [
    "bt.plot()"
   ]
  },
  {
   "cell_type": "code",
   "execution_count": null,
   "metadata": {},
   "outputs": [],
   "source": []
  }
 ],
 "metadata": {
  "kernelspec": {
   "display_name": "Python 3 (ipykernel)",
   "language": "python",
   "name": "python3"
  },
  "language_info": {
   "codemirror_mode": {
    "name": "ipython",
    "version": 3
   },
   "file_extension": ".py",
   "mimetype": "text/x-python",
   "name": "python",
   "nbconvert_exporter": "python",
   "pygments_lexer": "ipython3",
   "version": "3.7.3"
  }
 },
 "nbformat": 4,
 "nbformat_minor": 2
}