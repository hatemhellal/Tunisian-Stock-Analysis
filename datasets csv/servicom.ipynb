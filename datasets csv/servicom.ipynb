{
 "cells": [
  {
   "cell_type": "code",
   "execution_count": 1,
   "metadata": {
    "collapsed": true
   },
   "outputs": [],
   "source": [
    "import pandas as pd\n",
    "import matplotlib.pyplot as plt\n",
    "import datetime"
   ]
  },
  {
   "cell_type": "code",
   "execution_count": 2,
   "outputs": [],
   "source": [
    "df2016=pd.read_csv(\"./histo_cotation_2016.csv\")\n",
    "df2017=pd.read_csv(\"./histo_cotation_2017.csv\")\n",
    "df2018=pd.read_csv(\"./histo_cotation_2018.csv\")\n",
    "df2019=pd.read_csv(\"./histo_cotation_2019.csv\")\n",
    "df2020=pd.read_csv(\"./histo_cotation_2020.csv\")"
   ],
   "metadata": {
    "collapsed": false,
    "pycharm": {
     "name": "#%%\n"
    }
   }
  },
  {
   "cell_type": "code",
   "execution_count": 3,
   "outputs": [],
   "source": [
    "df = pd.concat([df2016,df2017,df2018,df2019,df2020]).reset_index(drop=True)"
   ],
   "metadata": {
    "collapsed": false,
    "pycharm": {
     "name": "#%%\n"
    }
   }
  },
  {
   "cell_type": "code",
   "execution_count": 4,
   "outputs": [
    {
     "data": {
      "text/plain": "             SEANCE  GROUPE      CODE               VALEUR OUVERTURE CLOTURE  \\\n0       04/01/2016     11.0  100010.0  MONOPRIX                14.19    13.9   \n1       04/01/2016     11.0  110025.0  SFBT                     22.8    23.4   \n2       04/01/2016     11.0  120040.0  TUNISAIR                 0.82    0.81   \n3       04/01/2016     11.0  160015.0  ATTIJARI BANK           24.19   24.22   \n4       04/01/2016     11.0  180045.0  BIAT                    76.35    76.9   \n...             ...     ...       ...                  ...       ...     ...   \n552344  31/12/2020     52.0  760001.0  SOTEMAIL                  0.0     0.0   \n552345  31/12/2020     52.0  766001.0  MAGHREB INTERN PUB        0.0     0.0   \n552346  31/12/2020     52.0  770001.0  OFFICEPLAST               0.0     0.0   \n552347  31/12/2020     52.0  773001.0  SANIMED                  1.75    1.75   \n552348  31/12/2020     99.0  503001.0  STIP                     0.92    0.92   \n\n       PLUS_BAS PLUS_HAUT  QUANTITE_NEGOCIEE  NB_TRANSACTION   CAPITAUX  \\\n0         13.77     14.19               2008            21.0   27847.95   \n1         22.45     23.43               4801            28.0  109693.23   \n2           0.8      0.82              12317            13.0    9941.51   \n3         24.15      24.3               6115            23.0  148030.95   \n4         76.35      77.0                286             6.0   21948.34   \n...         ...       ...                ...             ...        ...   \n552344      0.0       0.0                  0             0.0        0.0   \n552345      0.0       0.0                  0             0.0        0.0   \n552346      0.0       0.0                  0             0.0        0.0   \n552347     1.75      1.75               2300             6.0     4025.0   \n552348     0.92      0.92                400             1.0      368.0   \n\n       IND_RES  C_GR_RLC  CODE_VAL LIB_VAL COURS_REF COURS_VEILLE  \\\n0          NaN       NaN       NaN     NaN       NaN          NaN   \n1          NaN       NaN       NaN     NaN       NaN          NaN   \n2          NaN       NaN       NaN     NaN       NaN          NaN   \n3          NaN       NaN       NaN     NaN       NaN          NaN   \n4          NaN       NaN       NaN     NaN       NaN          NaN   \n...        ...       ...       ...     ...       ...          ...   \n552344     NaN       NaN       NaN     NaN       NaN          NaN   \n552345     NaN       NaN       NaN     NaN       NaN          NaN   \n552346     NaN       NaN       NaN     NaN       NaN          NaN   \n552347       H       NaN       NaN     NaN       NaN          NaN   \n552348     NaN       NaN       NaN     NaN       NaN          NaN   \n\n       DERNIER_COURS  NB_TRAN    I  \n0                NaN      NaN  NaN  \n1                NaN      NaN  NaN  \n2                NaN      NaN  NaN  \n3                NaN      NaN  NaN  \n4                NaN      NaN  NaN  \n...              ...      ...  ...  \n552344           NaN      NaN  NaN  \n552345           NaN      NaN  NaN  \n552346           NaN      NaN  NaN  \n552347           NaN      NaN  NaN  \n552348           NaN      NaN  NaN  \n\n[552349 rows x 20 columns]",
      "text/html": "<div>\n<style scoped>\n    .dataframe tbody tr th:only-of-type {\n        vertical-align: middle;\n    }\n\n    .dataframe tbody tr th {\n        vertical-align: top;\n    }\n\n    .dataframe thead th {\n        text-align: right;\n    }\n</style>\n<table border=\"1\" class=\"dataframe\">\n  <thead>\n    <tr style=\"text-align: right;\">\n      <th></th>\n      <th>SEANCE</th>\n      <th>GROUPE</th>\n      <th>CODE</th>\n      <th>VALEUR</th>\n      <th>OUVERTURE</th>\n      <th>CLOTURE</th>\n      <th>PLUS_BAS</th>\n      <th>PLUS_HAUT</th>\n      <th>QUANTITE_NEGOCIEE</th>\n      <th>NB_TRANSACTION</th>\n      <th>CAPITAUX</th>\n      <th>IND_RES</th>\n      <th>C_GR_RLC</th>\n      <th>CODE_VAL</th>\n      <th>LIB_VAL</th>\n      <th>COURS_REF</th>\n      <th>COURS_VEILLE</th>\n      <th>DERNIER_COURS</th>\n      <th>NB_TRAN</th>\n      <th>I</th>\n    </tr>\n  </thead>\n  <tbody>\n    <tr>\n      <th>0</th>\n      <td>04/01/2016</td>\n      <td>11.0</td>\n      <td>100010.0</td>\n      <td>MONOPRIX</td>\n      <td>14.19</td>\n      <td>13.9</td>\n      <td>13.77</td>\n      <td>14.19</td>\n      <td>2008</td>\n      <td>21.0</td>\n      <td>27847.95</td>\n      <td>NaN</td>\n      <td>NaN</td>\n      <td>NaN</td>\n      <td>NaN</td>\n      <td>NaN</td>\n      <td>NaN</td>\n      <td>NaN</td>\n      <td>NaN</td>\n      <td>NaN</td>\n    </tr>\n    <tr>\n      <th>1</th>\n      <td>04/01/2016</td>\n      <td>11.0</td>\n      <td>110025.0</td>\n      <td>SFBT</td>\n      <td>22.8</td>\n      <td>23.4</td>\n      <td>22.45</td>\n      <td>23.43</td>\n      <td>4801</td>\n      <td>28.0</td>\n      <td>109693.23</td>\n      <td>NaN</td>\n      <td>NaN</td>\n      <td>NaN</td>\n      <td>NaN</td>\n      <td>NaN</td>\n      <td>NaN</td>\n      <td>NaN</td>\n      <td>NaN</td>\n      <td>NaN</td>\n    </tr>\n    <tr>\n      <th>2</th>\n      <td>04/01/2016</td>\n      <td>11.0</td>\n      <td>120040.0</td>\n      <td>TUNISAIR</td>\n      <td>0.82</td>\n      <td>0.81</td>\n      <td>0.8</td>\n      <td>0.82</td>\n      <td>12317</td>\n      <td>13.0</td>\n      <td>9941.51</td>\n      <td>NaN</td>\n      <td>NaN</td>\n      <td>NaN</td>\n      <td>NaN</td>\n      <td>NaN</td>\n      <td>NaN</td>\n      <td>NaN</td>\n      <td>NaN</td>\n      <td>NaN</td>\n    </tr>\n    <tr>\n      <th>3</th>\n      <td>04/01/2016</td>\n      <td>11.0</td>\n      <td>160015.0</td>\n      <td>ATTIJARI BANK</td>\n      <td>24.19</td>\n      <td>24.22</td>\n      <td>24.15</td>\n      <td>24.3</td>\n      <td>6115</td>\n      <td>23.0</td>\n      <td>148030.95</td>\n      <td>NaN</td>\n      <td>NaN</td>\n      <td>NaN</td>\n      <td>NaN</td>\n      <td>NaN</td>\n      <td>NaN</td>\n      <td>NaN</td>\n      <td>NaN</td>\n      <td>NaN</td>\n    </tr>\n    <tr>\n      <th>4</th>\n      <td>04/01/2016</td>\n      <td>11.0</td>\n      <td>180045.0</td>\n      <td>BIAT</td>\n      <td>76.35</td>\n      <td>76.9</td>\n      <td>76.35</td>\n      <td>77.0</td>\n      <td>286</td>\n      <td>6.0</td>\n      <td>21948.34</td>\n      <td>NaN</td>\n      <td>NaN</td>\n      <td>NaN</td>\n      <td>NaN</td>\n      <td>NaN</td>\n      <td>NaN</td>\n      <td>NaN</td>\n      <td>NaN</td>\n      <td>NaN</td>\n    </tr>\n    <tr>\n      <th>...</th>\n      <td>...</td>\n      <td>...</td>\n      <td>...</td>\n      <td>...</td>\n      <td>...</td>\n      <td>...</td>\n      <td>...</td>\n      <td>...</td>\n      <td>...</td>\n      <td>...</td>\n      <td>...</td>\n      <td>...</td>\n      <td>...</td>\n      <td>...</td>\n      <td>...</td>\n      <td>...</td>\n      <td>...</td>\n      <td>...</td>\n      <td>...</td>\n      <td>...</td>\n    </tr>\n    <tr>\n      <th>552344</th>\n      <td>31/12/2020</td>\n      <td>52.0</td>\n      <td>760001.0</td>\n      <td>SOTEMAIL</td>\n      <td>0.0</td>\n      <td>0.0</td>\n      <td>0.0</td>\n      <td>0.0</td>\n      <td>0</td>\n      <td>0.0</td>\n      <td>0.0</td>\n      <td>NaN</td>\n      <td>NaN</td>\n      <td>NaN</td>\n      <td>NaN</td>\n      <td>NaN</td>\n      <td>NaN</td>\n      <td>NaN</td>\n      <td>NaN</td>\n      <td>NaN</td>\n    </tr>\n    <tr>\n      <th>552345</th>\n      <td>31/12/2020</td>\n      <td>52.0</td>\n      <td>766001.0</td>\n      <td>MAGHREB INTERN PUB</td>\n      <td>0.0</td>\n      <td>0.0</td>\n      <td>0.0</td>\n      <td>0.0</td>\n      <td>0</td>\n      <td>0.0</td>\n      <td>0.0</td>\n      <td>NaN</td>\n      <td>NaN</td>\n      <td>NaN</td>\n      <td>NaN</td>\n      <td>NaN</td>\n      <td>NaN</td>\n      <td>NaN</td>\n      <td>NaN</td>\n      <td>NaN</td>\n    </tr>\n    <tr>\n      <th>552346</th>\n      <td>31/12/2020</td>\n      <td>52.0</td>\n      <td>770001.0</td>\n      <td>OFFICEPLAST</td>\n      <td>0.0</td>\n      <td>0.0</td>\n      <td>0.0</td>\n      <td>0.0</td>\n      <td>0</td>\n      <td>0.0</td>\n      <td>0.0</td>\n      <td>NaN</td>\n      <td>NaN</td>\n      <td>NaN</td>\n      <td>NaN</td>\n      <td>NaN</td>\n      <td>NaN</td>\n      <td>NaN</td>\n      <td>NaN</td>\n      <td>NaN</td>\n    </tr>\n    <tr>\n      <th>552347</th>\n      <td>31/12/2020</td>\n      <td>52.0</td>\n      <td>773001.0</td>\n      <td>SANIMED</td>\n      <td>1.75</td>\n      <td>1.75</td>\n      <td>1.75</td>\n      <td>1.75</td>\n      <td>2300</td>\n      <td>6.0</td>\n      <td>4025.0</td>\n      <td>H</td>\n      <td>NaN</td>\n      <td>NaN</td>\n      <td>NaN</td>\n      <td>NaN</td>\n      <td>NaN</td>\n      <td>NaN</td>\n      <td>NaN</td>\n      <td>NaN</td>\n    </tr>\n    <tr>\n      <th>552348</th>\n      <td>31/12/2020</td>\n      <td>99.0</td>\n      <td>503001.0</td>\n      <td>STIP</td>\n      <td>0.92</td>\n      <td>0.92</td>\n      <td>0.92</td>\n      <td>0.92</td>\n      <td>400</td>\n      <td>1.0</td>\n      <td>368.0</td>\n      <td>NaN</td>\n      <td>NaN</td>\n      <td>NaN</td>\n      <td>NaN</td>\n      <td>NaN</td>\n      <td>NaN</td>\n      <td>NaN</td>\n      <td>NaN</td>\n      <td>NaN</td>\n    </tr>\n  </tbody>\n</table>\n<p>552349 rows × 20 columns</p>\n</div>"
     },
     "execution_count": 4,
     "metadata": {},
     "output_type": "execute_result"
    }
   ],
   "source": [
    "df"
   ],
   "metadata": {
    "collapsed": false,
    "pycharm": {
     "name": "#%%\n"
    }
   }
  },
  {
   "cell_type": "code",
   "execution_count": 5,
   "outputs": [],
   "source": [
    "df[\"VALEUR\"]=df[\"VALEUR\"].str.strip()\n",
    "df[\"SEANCE\"]=df[\"SEANCE\"].str.strip()"
   ],
   "metadata": {
    "collapsed": false,
    "pycharm": {
     "name": "#%%\n"
    }
   }
  },
  {
   "cell_type": "code",
   "execution_count": 6,
   "outputs": [
    {
     "data": {
      "text/plain": "['MONOPRIX',\n 'SFBT',\n 'TUNISAIR',\n 'ATTIJARI BANK',\n 'BIAT',\n 'BH',\n 'TUNISIE LEASING',\n 'BT',\n 'STB',\n 'BNA',\n 'AMEN BANK',\n 'ATB',\n 'UIB',\n 'SIMPAR',\n 'CIL',\n 'ATL',\n 'POULINA GP HOLDING',\n 'STAR',\n 'SOTETEL',\n 'SOTUVER',\n 'SOTUMAG',\n 'SIAME',\n 'ATTIJARI LEASING',\n 'ELECTROSTAR',\n 'SOTRAPIL',\n 'MODERN LEASING',\n 'SOMOCER',\n 'GIF-FILTER',\n 'ASSAD',\n 'SITS',\n 'WIFACK INT BANK',\n 'ESSOUKNA',\n 'ADWYA',\n 'TPR',\n 'SOPAT',\n 'ARTES',\n 'HANNIBAL LEASE',\n 'CIMENTS DE BIZERTE',\n 'TUNIS RE',\n 'ENNAKL AUTOMOBILES',\n 'TELNET HOLDING',\n 'ONE TECH HOLDING',\n 'CITY CARS',\n 'EURO-CYCLES',\n 'CELLCOM',\n 'SAH',\n 'MPBS',\n 'SOTIPAPIER',\n 'DELICE HOLDING',\n 'UADH',\n 'BTE (ADP)',\n 'SPDIT - SICAF',\n 'AIR LIQUDE TSIE',\n 'UBCI',\n 'PLAC. TSIE-SICAF',\n 'ASTREE',\n 'ICF',\n 'ELBENE INDUSTRIE',\n 'ALKIMIA',\n 'TUNINVEST-SICAR',\n 'MAGASIN GENERAL',\n 'ASSURANCES SALIM',\n 'STEQ',\n 'SIPHAT',\n 'BEST LEASE',\n 'SITEX',\n 'STE TUN. DU SUCRE',\n 'ASS MULTI ITTIHAD',\n 'BTE0919 5.25%AP10',\n 'BTE0920 5.2%AP10',\n 'BTE0920 T+0.7%AP10',\n 'BTE0930 5.85%AP20',\n 'BTE0219 T+1.3P7-2',\n 'BTE0232 6.25%P20',\n 'TJB 0118 T+0.60%P7',\n 'JBS 1020 7.4% AP5',\n 'JBS1022 7.5% P7-2',\n 'JBS1022T+2.1% P7-2',\n 'BH1224 T+0.8%P15-2',\n 'BH1224 5.3%P15-2',\n 'BH 0620 6.8% AP7',\n 'BH 0620 T+1.8% AP7',\n 'BHS A0520 7.4%',\n 'BHSA0520T+1.95%AP5',\n 'BHSB0522 7.5%AP7-2',\n 'TL SB0216 5.7% P5',\n 'TL SB0216 T+1.1%P5',\n 'TL0616 5.75%AP5',\n 'TL0616 T+0.9%AP5',\n 'TL1016 5.95%P5',\n 'TL1016 T+1.25%P5',\n 'TL0117 5.85%P5',\n 'TL0117 T+1.35%P5',\n 'TL0517 6.15% AP5',\n 'TL0517 T+1.75%AP5',\n 'TL0519 6.25%AP7-2',\n 'TL A0118 6.3P5',\n 'TL A0118 T+1.75P5',\n 'TL B0120 6,4P7-2',\n 'TLSUB0518 7%P5',\n 'TLSUB0518 T+2.25P5',\n 'TL A 1018 7% AP5',\n 'TL A 1018 T+2% AP5',\n 'TLB 10207.25% P7-2',\n 'TLS A0219 7.35%AP5',\n 'TLSA0219T+2.35%AP5',\n 'TLS B0221 7.6%P7-2',\n 'TL A0419 7.2% AP5',\n 'TL A0419T+2.2% AP5',\n 'TLB0421 7.35% P7-2',\n 'TL A1219 7.55% AP5',\n 'TL B1221 7.8% P7-2',\n 'TL A0520 7.65% AP5',\n 'TL A0520T+2.3%AP5',\n 'TLB0522 7.85% P7-2',\n 'TLS A0620 7.7%AP5',\n 'TLS B0622 7.9%P7-2',\n 'UBCI 0520 6,8%P7-2',\n 'STB0524 T+1.5%AP16',\n 'STB0528T+1.75%AP20',\n 'STB0533 T+2.0%AP25',\n 'STB0225 6.5%AP16',\n 'STB0320 T+0.70%P10',\n 'STB0325 5.30%P15',\n 'STB SB0119 6.1P7',\n 'STB SB0122T+1.3P10',\n 'BNA0424 5.4%AP15',\n 'AB 0117 T+1% AP10',\n 'AB0523 6.5%AP15',\n 'AB0528 7.0%AP20',\n 'ABSB0924 5.45%P15',\n 'ABSB0924 T+0.85P15',\n 'AB0825 T+0.85%AP15',\n 'ABSB0921 6.1%P10',\n 'ABSB0921 T+1%P10',\n 'ABSUB0922 6.25%P10',\n 'ABSUB0922T+1.3%P10',\n 'ABS A02207.35%AP5',\n 'ABSA0220T+1.9%AP5',\n 'ABSB02227.45%AP7-2',\n 'ATB0517T+0.75%AP10',\n 'ATB0523T+1.25%AP16',\n 'ATB0527T+1.75%AP20',\n 'ATB0532T+2.0%AP25',\n 'ATB0516T+0.5P7-2',\n 'ATB0519T+0.75P10-2',\n 'ATB0524 5.7%P15-5',\n 'ATB0529 5.9%P20-5',\n 'UIB0719 5.25%AP10',\n 'UIB0724 5.5%AP15',\n 'UIB0729 5.85%AP20',\n 'UIB0821 T+1%P10',\n 'UIB0831 6.3%P20',\n 'UIB 0119 5.9%P7',\n 'UIB0120 6.30% AP7',\n 'UIB0123 6.40% AP10',\n 'UIB0133 6.70% AP20',\n 'UBS A0620 7.4% AP5',\n 'UBSA0620T+1.95%AP5',\n 'UBSB0622 7.5%AP7-2',\n 'CIL01197.25%AP10-5',\n 'CIL0119T+1.5AP10-5',\n 'CIL0216 5.5%P5',\n 'CIL0216 T+0.75%P5',\n 'CIL0317 6% AP5',\n 'CIL 0218 6.5% AP5',\n 'CIL 0218 T+1.75%P5',\n 'CIL 1218 7% AP 5',\n 'CIL 1220 7.25%P7-2',\n 'CIL 0719 7.2% AP5',\n 'CIL 0719T+1.9% AP5',\n 'CIL 0120 7.6% AP5',\n 'CIL 0620 7.65% AP5',\n 'CIL 0620 T+2% AP5',\n 'CIL 1020 7.65% AP5',\n 'CIL 1020 T+2% AP5',\n 'BTK0217 T+0.5%P7',\n 'BTK0220 T+0.7%P10',\n 'BTK0225 T+0.8%P15',\n 'BTK0230 5.85%P20',\n 'BTK1117 T+1.75%P5',\n 'BTK1119 6.30%P7',\n 'BTKSA1219 7.35%AP5',\n 'BTKSA1219T+1.9%AP5',\n 'BTKSB12217.45%P7-2',\n 'ATL0818 7.0%AP10-5',\n 'ATL0818T+1.5%P10-5',\n 'ATL0916 5.25%P7-2',\n 'ATL0916T+0.75%P7-2',\n 'ATL1217 5.5%P7/2F',\n 'ATL1217 T+1%P7/2V',\n 'ATL0219 6.25%P7-2',\n 'ATL0517 6.15% AP5',\n 'ATL0420 6,8P7-2',\n 'ATL0420 T+1,9P7-2',\n 'ATL 1120 7,2% P7-2',\n 'ATL1120 T+1,9%P7-2',\n 'ATL 0319 7.3% AP5',\n 'ATLA0519 T+1.9%AP5',\n 'ATL B0519 7.2% AP5',\n 'ATLC0521 7.35%P7-2',\n 'ATL A0220 7.6% AP5',\n 'ATL C02227.8% P7-2',\n 'ATL 0720 7.65% AP5',\n 'ATL 0720 T+2.3%AP5',\n 'ATL 0722 7.85%P7-2',\n 'MXA0816 5.4%AP7-2',\n 'MXB0816 5.4%AP7-2',\n 'MXC0816 5.4%AP7-2',\n 'MXD0816 5.4%AP7-2',\n 'MXE0816 5.4%AP7-2',\n 'MXF0816 5.4%AP7-2',\n 'MXG0816 5.4%AP7-2',\n 'TJL0117 6.0%P5',\n 'TJL0517 6.25%AP5',\n 'TJL0519 6.35%P7-2',\n 'TJL1217 T+1.8% AP5',\n 'TJL1217 6.30% AP5',\n 'TJL1219 6.40% AP7',\n 'JLA1118 T+2.1% AP5',\n 'JL B 1118 7% AP5',\n 'JLC 1120 7.1% P7-2',\n 'JL B0619 7.2% AP5',\n 'JLC0621 7.35% P7-2',\n 'TJL SA1219 7.5%AP5',\n 'TJLSB1221 7.75P7-2',\n 'TJLSC1219 T+2.25P5',\n 'JL A0420 7.6% AP5',\n 'JL B0422 7.8% P7-2',\n 'JL C0420T+2.3% AP5',\n 'JL A1220 7.7% AP5',\n 'ML0220 6,50% AP7-2',\n 'AIL0416 5.75%AP5',\n 'AIL0517 6%AP5',\n 'AIL0517 T+1.5%AP5',\n 'AIL 0518 7% AP5',\n 'AIL 0518T+2.25%AP5',\n 'AIL 0719 7.3% AP5',\n 'AIL 0719T+1.9% AP5',\n 'AIL 0820 7.65% AP5',\n 'AIL0820T+2.25% AP5',\n 'AIL0822 7.85% P7-2',\n 'TF 0120 7.6% AP5',\n 'TF 0120 T+2.5% AP5',\n 'UNIFAC0216 5.5%P5',\n 'UNIFAC0216 T+1%P5',\n 'UNIFAC 1018 7% P5',\n 'UNIFAC 1018 T+2%P5',\n 'ELW0116 5.45% AP5',\n 'ELW0116T+0.775%AP5',\n 'ELW 0418 6.6% AP5',\n 'ELW0418 T+1.6% AP5',\n 'HL0917 6.75% AP5',\n 'HL0917 T+2% AP5',\n 'HL0518 6.9AP5',\n 'HL0518 T+1.9AP5',\n 'HL A0219 7.2% AP5',\n 'HL A0219T+2.2%',\n 'HL B02217.35% P7-2',\n 'HL A1019 7.65% AP5',\n 'HL A1019T+2.3% AP5',\n 'HL B1021 7.8% P7-2',\n 'HL A0420 7.7% AP5',\n 'HL B0422 7.85%P7-2',\n 'HLS 1120 7.72% AP5',\n 'HLS1122 7.92%P7-2',\n 'SERVI 0318 6.9P5',\n 'SERVI 0318 T+2.5P5',\n 'CHO1119 T+1.0%10-2',\n 'CHOC1219 T+1%P10-2',\n 'MXIA0417 5.4%P7-2',\n 'MXIB0417 5.4%P7-2',\n 'MXIC0417 5.4%P7-2',\n 'MXID0417 5.4%P7-2',\n 'MXIE0417 5.4%P7-2',\n 'BTA ZC OCT 2016',\n 'BTA 6.9 % 09052022',\n 'BTA 6.75%   072017',\n 'BTA ZC DEC 2018',\n 'BTA 5,25% MARS2016',\n 'BTA 5,5% MARS 2019',\n 'BTA 5,6% AOUT 2022',\n 'BTA 5,50% OCT 2018',\n 'BTA 5,25% DEC 2016',\n 'BTA 5,50% FEV 2020',\n 'BTA 5,3% JANV 2018',\n 'BTA 5,5% OCT 2020',\n 'BTA 6% AVRIL 2024',\n 'E NAT 5,95% 2014 A',\n 'E NAT 6,15% 2014 B',\n 'E NAT 6,35% 2014 C',\n 'E NAT HASSN 2014 A',\n 'E NAT HASSN 2014 B',\n 'E NAT HASSN 2014 C',\n 'BTA 5,75% JANV2021',\n 'BTA 6% AVRIL 2023',\n 'BTA 6.3% OCT 2026',\n 'MONOPRIX DA',\n 'MNP DA 1/2 100611',\n 'MNP DA 1/5 040612',\n 'MNP DA 1/5 160615',\n 'SFBT (DA 1/6)',\n 'SFBT (DA 1/7)',\n 'SFBT (DA 1/2) 2001',\n 'SFBTDA1/2(11/4/02)',\n 'SFBT DA 1/12 2006',\n 'SFBT DA2007 1/13',\n 'SFBT DA5/56 120510',\n 'SFBT DA5/61 300311',\n 'SFBT DA10/66 03712',\n 'SFBT DA1/19 280513',\n 'SFBT DA 1/8 200514',\n 'SFBT DA 1/6 120515',\n 'TUNISAIR - DA 01',\n 'TUNISAIR - DA 04',\n 'TAIR DA1/10 010799',\n 'TAIR DA1/10 030700',\n 'TUNISAIR DA 1/10',\n 'TAIR DA1/22 310806',\n 'TAIR DA 1/5 010908',\n 'TAIR DA1/11 170709',\n 'SPDIT DA 1/24 3512',\n 'AMS DA 1/10 010798',\n 'AMS DA 1/40 010799',\n 'AMS DA 1/50',\n 'AMS DA 1/51 150702',\n 'AMS DA 1/26 0803',\n 'AMS DA 1/9 090804',\n 'AMS DA 1/5 030413',\n 'AMS DS 7/31 151215',\n 'TJARI - (DA)',\n 'TJARI -  DA39',\n 'BIAT DA32 4/60',\n 'BIAT DA36 1/24',\n 'BQ HABITAT (DA)',\n 'BH DA 1/20 150999',\n 'BH DA1/25 14022000',\n 'BHDA 1/15 28052007',\n 'BH DA 1/3 270715',\n 'TUN. LEAS. (DA 10)',\n 'TLS DA 1/4',\n 'TLS DA 1/5(021202)',\n 'TLS DA 1/6(181203)',\n 'TLS DA 1/7(061204)',\n 'TLS DA1/55(010307)',\n 'TLS DA 1/56 030308',\n 'TLS DA 1/57 020309',\n 'TLS DA 1/68 301209',\n 'TLS DA 1/69 010210',\n 'TLS DA 3/80 010213',\n 'TL DA3/83 10022014',\n 'TL DA2/43 02022015',\n 'BQ DE TSIE - DA',\n 'BT DA 3/10 170599',\n 'BTDA1/7(3/12/01)',\n 'BT DA 1/2 23052006',\n 'BT DA 1/2 10/06/09',\n 'BT DA 1/3 280613',\n 'AIR LIQ DA1/4 0999',\n 'AIR LIQ DA1/6 0601',\n 'ALQ DA1/6 (160902)',\n 'AIR LIQ DA1/8 0903',\n 'ALQ DA1/10 7/09/04',\n 'ALQDA1/12 06/09/05',\n 'ALQ DA1/12 070906',\n 'ALQ DA 1/12  0907',\n 'AL DA 1/11 030908',\n 'AL DA 1/12 030909',\n 'ALQ DA 1/11 060910',\n 'ALQ DA 1/11 050911',\n 'ALQ DA 1/15 030912',\n 'ALQ DA 1/11 020913',\n 'ALQ DA 1/12 150914',\n 'ALQ DA 1/25 070915',\n 'UBCI DA 1/6 010900',\n 'UBCI DA 3/7 010704',\n 'UBCI DA 1/2 150710',\n 'UBCI DA8/33 141013',\n 'STB NS J 01072015',\n 'BNA DA 1/10 040509',\n 'AB DA 26 3/37',\n 'AB DA 29 3/40',\n 'AB DA 34 2/59',\n 'AB DA 1/27',\n 'ABDA 1/14 11122007',\n 'AB DA 3/37 281209',\n 'AB DA 1/10 110613',\n 'ATBDA1/7 09/11/05',\n 'ATB DA 1/10 151208',\n 'ATB DA 1/16 161210',\n 'ALKIM DA',\n 'ALKIM DA 04',\n 'ALK DA 1/10 240603',\n 'SIMPAR DA 1/5',\n 'SIMPA DA1/6 010708',\n 'SIMPA DA1/7 010710',\n 'SIMPA DA1/8 020712',\n 'SIMPA DA2/9 010714',\n 'CIL DA 2007 1/4',\n 'CIL DA 1/5 301208',\n 'CIL DA 1/3 110610',\n 'CIL DA 1/4 030611',\n 'ATL DA 1/5 290808',\n 'ATL DA 2/17 261112',\n 'STIP DA1/10 0703',\n 'PGH DA 2/25 230611',\n 'MAG GEN DA 1/2',\n 'SOTETEL DA1/6',\n 'SOT DA 1/5  010102',\n 'SOT DA 1/5 010703',\n 'SOT DA 1/10 150704',\n 'SOT DA1/22  010906',\n 'SOTUVER DA 1/24',\n 'STV DA 1/25 010700',\n 'SOTUVER DA 3/34',\n 'STV02 3/10 010102',\n 'STV DA10/31 160712',\n 'SOTUV DA1/7 180713',\n 'SOTUV DA3/41 10714',\n 'STV DA 3/40 200715',\n 'MGR DA1/3 050710',\n 'SIAME DA5/11',\n 'SIAME DA1/10',\n 'SIAME DA1/8',\n 'SIAM DA1/25 280704',\n 'ATTIJARI LS ROMPU',\n 'STEQ DA2/5(8/4/02)',\n 'ELECTROSTAR DA 1/6',\n 'STPIL DA1/10 0703',\n 'STPILDA0807 1/10',\n 'STPIL DA1/25301208',\n 'STPIL DA1/20 02712',\n 'STPIL DA1/33 01713',\n 'STPIL DA1/17 20614',\n 'STPL DA1/32 180615',\n 'ML DA 1/4 250515',\n 'SOMOC DA 1/7 0803',\n 'SOMOC DA 1/10 0708',\n 'SOMOC DA 1/20 2007',\n 'SOMC DA1/10 261211',\n 'SOMC DA1/45 211212',\n 'SOMC DA2/35 231213',\n 'SOMC DA3/37 250814',\n 'SOM DA 1/23 201015',\n 'GIF DA 1/10 2008',\n 'GIF DA 1/11 160209',\n 'GIF DA 1/4 200711',\n 'GIF DA 1/5 101212',\n 'GIF DA27/1000 8713',\n 'GIF DA4/237 270415',\n 'GIF DA5/429 310715',\n 'ASSDA1/9(01/07/05)',\n 'ASSAD DA1/4 150609',\n 'ASS DA 1/10 020610',\n 'ASS DA 1/22 200611',\n 'ASS DA 1/23 010812',\n 'SITSDA1/9 28/03/07',\n 'WIFAK DA1/2 121015',\n 'SOKNA DA1/5 020712',\n 'SOKNA DA2/5 010714',\n 'ADWYA DA 1/10 2007',\n 'ADWYA DA 1/5 90812',\n 'ADWYA DA1/5 040814',\n 'ADWA DA1/12 311215',\n 'DA TPR 11/149 2006',\n 'TPR DA 1/8 200509',\n 'TPR DA 1/36 250510',\n 'TPR DA 5/37 150611',\n 'TPR DA 1/21 250612',\n 'TPR DA 1/44 250613',\n 'SOPATDA1/20 010708',\n 'SOPATDA1/10 140213',\n 'ARTES DA1/4 230712',\n 'ARTES DA1/5 040313',\n 'CC DA 1/52 201210',\n 'NBL DA1/45 161213',\n 'SAH DA 1/7 050814',\n 'SAH DA 1/20 050914',\n 'SAH DA 1/5 230615',\n 'AMS',\n 'SERVICOM',\n 'CARTHAGE CEMENT',\n 'HEXABYTE',\n 'AETECH',\n 'LAND OR',\n 'NEW BODY LINE',\n 'SOTEMAIL',\n 'CEREALIS',\n 'TAWASOL GP HOLDING',\n 'OFFICEPLAST',\n 'MAGHREB INTERN PUB',\n 'F1BIAT1016 T+1.2%',\n 'F2BIAT0420 T+1.7%',\n 'STIP',\n 'TL B0120 6.4P7-2',\n 'SOPAT DS2/5 150216',\n 'ML0220 6.50% AP7-2',\n 'TL A0321 7.5% AP5',\n 'TLB0323 7.75% P7-2',\n 'ATL A0221 7.5% AP5',\n 'ATLB0221T+2.35%AP5',\n 'ATLC0223 7.75%P7-2',\n 'HL A0321 7.65% AP5',\n 'HLA0321T+2.35%AP5',\n 'HL B0323 7.85%P7-2',\n 'BTA 6% JANV  2024',\n 'BTA6.7% AVRIL 2028',\n 'ATL0420 6.8P7-2',\n 'ATL0420 T+1.9P7-2',\n 'SFBT DA 1/7 040516',\n 'UNIMED',\n 'SOMOC DS1/4 250516',\n 'BHS A0521 7.4%AP5',\n 'BHSA0521T+1.95%AP5',\n 'BHSB0523 7.5%AP7-2',\n 'TL A 0421 7.5% AP5',\n 'TLB0423 7.75% P7-2',\n 'CIL 0521 7.5% AP5',\n 'UNIFAC02217.45% P5',\n 'UNIFAC0221T+2.5%P5',\n 'HL 0621 7.65% AP5',\n 'ECYCL DA1/2 010616',\n 'UBCI 0520 6.8%P7-2',\n 'BT DA 1/5 03062016',\n 'BTA 6% FEV  2022',\n 'BTA 6.3% MARS 2026',\n 'E NAT 5.95% 2014 A',\n 'STPIL DA1/39 01716',\n 'ATL A0621 7.5% AP5',\n 'ATLC0623 7.75%P7-2',\n 'JL A0721 7.5% AP5',\n 'JL B0723 7.75%P7-2',\n 'TPR  DA 1/9 260716',\n 'UMED D76/509 26716',\n 'AB DA1/24 01082016',\n 'MXA 0623 7.85%P7-2',\n 'MXB 0623 7.85%P7-2',\n 'MXC 0623 7.85%P7-2',\n 'MXD 0623 7.85%P7-2',\n 'ALQ DA 1/28 050916',\n 'BTA 6% OCT  2023',\n 'ADWYA DA1/8 071116',\n 'SERV 0823 8.2%P7-2',\n 'SERV 0823 T+3%P7-2',\n 'ATL 1120 7.2% P7-2',\n 'ATL1120 T+1.9%P7-2',\n 'HL 1121 7.65% AP5',\n 'HL 1121 T+2.35%AP5',\n 'HL 1123 7.85% P7-2',\n 'PLAST DA1/4 161216',\n 'PLAST NS J01012017',\n 'SOPAT NS J01102016',\n 'SANIMED',\n 'SAH DA 1/14 250117',\n 'BTE A0122 7,4% AP5',\n 'BTEA0122 T+2,5%AP5',\n 'BTEB0124 7,55%P7-2',\n 'TL SA0322 7,6% AP5',\n 'TLSB0324 7,85%P7-2',\n 'AB SA1121 7,4% AP5',\n 'ABSB1123 7,5%AP7-2',\n 'BTE A0122 7.4% AP5',\n 'BTEB0124 7.55%P7-2',\n 'ATELIER MEUBLE INT',\n 'BTA 6% JUIN  2023',\n 'BTA 6,6% MARS 2027',\n 'BTA 7,5% JUIL 2032',\n 'SFBT DA1/10 040517',\n 'LSTR DS 1/1 170517',\n 'LSTR NS J01012017',\n 'UBS A0122 7.4% AP5',\n 'UBSB0124 7.5%AP7-2',\n 'JL A0322 7.65% AP5',\n 'JL C0324 7.85%P7-2',\n 'HL A0222 7.65% AP5',\n 'HLA0222T+2.35%AP5',\n 'HL B0224 7.85%P7-2',\n 'LNDOR DA1/32 80617',\n 'LNDOR NG J01012014',\n 'BTA 6% JUIN  2021',\n 'E NAT 6.15% 2014 B',\n 'E NAT 6.35% 2014 C',\n 'AB DA1/25 300617',\n 'STPIL DA1/56 30061',\n 'TJARI SA0522 7.4P5',\n 'TJARISA0522T+1.9P5',\n 'TJARISB05247.5P7-2',\n 'TLS A0622 7.55%AP5',\n 'TLS A0622 T+2,35P5',\n 'TLS B0624 7.8%P7-2',\n 'BNA SA0522 7.4%AP5',\n 'BNASB0524 7.55P7-2',\n 'AB SA0422 7.4%AP5',\n 'ABSB0424 7.55AP7-2',\n 'AB SC0424 7.7%INF7',\n 'CIL 0222 7.50% AP5',\n 'ATL A0322 7.55%AP5',\n 'ATLB0322T+2.35%AP5',\n 'ATLC0324 7.8%AP7-2',\n 'STPILDA1/56 300617',\n 'SAH DA 1/17 070717',\n 'MPBS DA1/10 070717',\n 'TJL DA 3/17 210717',\n 'NBL DA 1/10 280717',\n 'SAM DA 1/10 280717',\n 'ADW DA 1/15 310717',\n 'UMD DA11/117 40817',\n 'AST DA 1/2 140817',\n 'AMI DA 1/4 110817',\n 'TJL DS 1/10 250817',\n 'HL DA 1/10 180817',\n 'HL DS 3/10 180817',\n 'STV DS 3/43 280817',\n 'ALQ DA 1/31 250917',\n 'STPAP DS1/6 091017',\n 'BH DA 1/5 171117',\n 'BH DS 1/5 171117',\n 'AB SA1121 7.4% AP5',\n 'CIL 0622 7.60% AP5',\n 'HL A0722 7.65% AP5',\n 'HL B0724 7.85%P7-2',\n 'STV DA2/23 4122017',\n 'STV NG J 01012018',\n 'ATL S1024 7,9%P7-2',\n 'SAH DA 1/14 131217',\n 'MGR DA 1/10 201217',\n nan,\n 'TUNISIE LEASING F',\n 'TUNISIE VALEURS',\n 'BH ASSURANCE',\n 'BTEA0122 T+2.5%AP5',\n 'BHS A0423 7.7% AP5',\n 'BHS A0423 T+2% AP5',\n 'BHSB0425 7.85%P7-2',\n 'BHSB0425T+2.1%P7-2',\n 'BHS C0425 8% INF 7',\n 'BH SA0324 10% AP5',\n 'BH SA0324 T+2.1AP5',\n 'BHSB0324 10.2%INF5',\n 'BHSB0324T+2.3%INF5',\n 'BH SC0326 10.3P7-2',\n 'BH SC0326T+2.6P7-2',\n 'TL SA0322 7.6% AP5',\n 'TLS A0622 T+2.35P5',\n 'TLS A0223 7.95%AP5',\n 'TLSB0225 8.20%P7-2',\n 'TL A 0523 7.95%AP5',\n 'TL A0523 T+2.3%AP5',\n 'TL B0525 8.2% P7-2',\n 'TLFSA 0124 10.6%P5',\n 'TLFSA 0124T+2.7%P5',\n 'TLFSB 0126 11%P7-2',\n 'TLFSB 0126T+3%P7-2',\n 'TL A 0624 11.4%AP5',\n 'TL A0624 T+2.7%AP5',\n 'TL B0626 11.7%P7-2',\n 'BNASA0823 8.25%AP5',\n 'BNASA0823 T+2% AP5',\n 'BNASB0825 8.5%P7-2',\n 'BNASB825T+2.25P7-2',\n 'ABSB1123 7.5%AP7-2',\n 'ATBSA325T+2.05P7-2',\n 'ATBSB0328T+2.1AP10',\n 'CIL 0323 7.95% AP5',\n 'CIL 0124 10.6% AP5',\n 'CIL 0124 T+2,5% P5',\n 'ATL A0323 7.65%AP5',\n 'ATLB0323T+2.35%AP5',\n 'ATLC0325 7.95%P7-2',\n 'ATL A0723 8.3% AP5',\n 'ATL B0723T+2.2%AP5',\n 'ATL C0725 8,5%P7-2',\n 'ATL A1224 11,6%AP5',\n 'JL A1222 7.75% AP5',\n 'JLB1222T+2.35% AP5',\n 'JL C1224 7.9% P7-2',\n 'TJLS A0623 8.2%AP5',\n 'TJLSB0623T+2.3%AP5',\n 'TJLSC0625 8.35P7-2',\n 'TJL A 0624 11% AP5',\n 'TJL B0624T+2,75%P5',\n 'ML S A 0423 8% AP5',\n 'ML SA0423 T+2.3%P5',\n 'MLSB0425 8,25%P7-2',\n 'UNIFAA1123 9.25%P5',\n 'UNIFAB1123T+2.5%P5',\n 'WIBIA0624 10.25%P5',\n 'WIB IB0624 10.5%P5',\n 'WIBIC0626 10.75%P7',\n 'WIB ID 0626 11%P7',\n 'HL A0123 8% AP5',\n 'HL A0123 T+2.4%AP5',\n 'HL B0125 8.25%P7-2',\n 'HL S A0523 8,3%AP5',\n 'HL S A0523T+2.1%P5',\n 'HL SB0525 8.5%P7-2',\n 'HL A0224 11,15%AP5',\n 'HL A0224 T+3.5%AP5',\n 'HL B0226 11.5%P7-2',\n 'SER R 1224 11,6%P5',\n 'SER R 1224T+4,6%P5',\n 'ABC A0723 8.2%AP5',\n 'ABC A0723 T+2.2%AP',\n 'ABC B0725 8,4%P7-2',\n 'ABC B0725T+2,4P7-2',\n 'ABCC0725T+2,5 INF7',\n 'BTA 6,1% NOV  2021',\n 'BTA 7% JUIL  2028',\n 'BTA 6,5% JUIN 2025',\n 'BTA 6,3% DEC 2023',\n 'SFBT DA 1/4 300418',\n 'SFBT DA 1/5 130519',\n 'TJARIDA1/40 250518',\n 'TLS DA1/23 010719',\n 'BT DA 1/4 04052018',\n 'ALQ DA 1/30 161018',\n 'ALQ DA 1/16 160919',\n 'BNA DA 1/10 200618',\n 'BNA DA 1/55 150419',\n 'ATL NS J 01072019',\n 'STPILDA1/39 290618',\n 'ADW DA 1/22 310718',\n 'TLN DA 1/10 010719',\n 'CITY DA1/3 230919',\n 'ECYC DA1/10 010719',\n 'SAH DA 1/14 010818',\n 'SAH DA 1/18 031218',\n 'MPBS DA1/20 050718',\n 'MPBS DA1/10 100719',\n 'CC DS 13/10 170120',\n 'CIL 0124 T+2.5% P5',\n 'PLAST NS J01012020',\n 'BH LEASING',\n 'STB SA1124 10,5%P5',\n 'STB SA1124T+2.3%P5',\n 'STB SC1126 11%P7-2',\n 'STBSC1126T+2.8P7-2',\n 'STBSD1126 11,5%IF7',\n 'STBSE1124 11,5%CU5',\n 'HL A0224 11.15%AP5',\n 'TLSB0324 7.85%P7-2',\n 'BTA 7,2% FEV 2027',\n 'BTA 7,4% FEV 2030',\n 'BTE A0125 11% AP5',\n 'BTEA0125 T+2,75%P5',\n 'BTEB0127 11,5%P7-2',\n 'BTEB0127T+3,25P7-2',\n 'HL S A0523 8.3%AP5',\n 'TJL B0624T+2.75%P5',\n 'BIAT DA1/20 290620',\n 'HL DA37/100 090720',\n 'BTA 7,2% MAI 2027',\n 'SFBT DA 1/4 200720',\n 'STB SA0425 10,5%P5',\n 'STB SC0427 11%P7-2',\n 'STBSE0425 11,3%CU5',\n 'CIL 0625 10,5% AP5',\n 'ABC A0625 11%AP5',\n 'ABCB0627 11,5%P7-2',\n 'SOPAT NS J01012019',\n 'MPBS DA1/17 100820',\n 'SAM DA 1/5 300920',\n 'SOTUV DA7/32 91020',\n 'SOTUV NG J 010121',\n 'ATL S1024 7.9%P7-2',\n 'PLA DA3/100 231020',\n 'TLS 0525 11,6% AP5',\n 'BTA 8% NOV 2030',\n 'ALQ DA 1/45 201120',\n 'AMI DA27/35 241120',\n 'AMI NG J 01012020',\n 'STB SA1124 10.5%P5',\n 'HLA1125 10,6%AP5PP',\n 'HL B1125 10,6% AP5',\n 'CIL 0625 10.5% AP5',\n 'ATL A1224 11.6%AP5',\n 'BTA 7,3% DEC 2027',\n 'ATL A1025 10.30%P5',\n 'TJL S1125 10.25%P5',\n 'SER R 1224 11.6%P5',\n 'SER R 1224T+4.6%P5',\n 'SOTEM NS J01012021',\n 'ASSUR MAGHREBIA']"
     },
     "execution_count": 6,
     "metadata": {},
     "output_type": "execute_result"
    }
   ],
   "source": [
    "list(df.VALEUR.unique())"
   ],
   "metadata": {
    "collapsed": false,
    "pycharm": {
     "name": "#%%\n"
    }
   }
  },
  {
   "cell_type": "code",
   "execution_count": 7,
   "outputs": [],
   "source": [
    "servicom=df.query(\"VALEUR=='EURO-CYCLES'\")"
   ],
   "metadata": {
    "collapsed": false,
    "pycharm": {
     "name": "#%%\n"
    }
   }
  },
  {
   "cell_type": "code",
   "execution_count": 8,
   "outputs": [
    {
     "data": {
      "text/plain": "Index(['SEANCE', 'GROUPE', 'CODE', 'VALEUR', 'OUVERTURE', 'CLOTURE',\n       'PLUS_BAS', 'PLUS_HAUT', 'QUANTITE_NEGOCIEE', 'NB_TRANSACTION',\n       'CAPITAUX', 'IND_RES', 'C_GR_RLC', 'CODE_VAL', 'LIB_VAL', 'COURS_REF',\n       'COURS_VEILLE', 'DERNIER_COURS', 'NB_TRAN', 'I'],\n      dtype='object')"
     },
     "execution_count": 8,
     "metadata": {},
     "output_type": "execute_result"
    }
   ],
   "source": [
    "servicom.columns"
   ],
   "metadata": {
    "collapsed": false,
    "pycharm": {
     "name": "#%%\n"
    }
   }
  },
  {
   "cell_type": "code",
   "execution_count": 9,
   "outputs": [],
   "source": [
    "servicom_cleaned=servicom[['SEANCE', 'OUVERTURE', 'CLOTURE','PLUS_BAS', 'PLUS_HAUT', 'QUANTITE_NEGOCIEE', 'NB_TRANSACTION']]"
   ],
   "metadata": {
    "collapsed": false,
    "pycharm": {
     "name": "#%%\n"
    }
   }
  },
  {
   "cell_type": "code",
   "execution_count": 10,
   "outputs": [
    {
     "data": {
      "text/plain": "            SEANCE OUVERTURE CLOTURE PLUS_BAS PLUS_HAUT  QUANTITE_NEGOCIEE  \\\n43      04/01/2016     35.18   36.45     34.1     36.45               6253   \n537     05/01/2016     37.98    37.0    36.74     37.98               6779   \n1031    06/01/2016      37.0    36.5     36.0      37.0               4310   \n1525    07/01/2016      36.5   35.42    35.42      36.9               4712   \n2019    08/01/2016      35.0    36.0    34.36      36.4              18727   \n...            ...       ...     ...      ...       ...                ...   \n549586  25/12/2020      25.9   25.85     25.5      26.0               7855   \n550146  28/12/2020     25.55    25.8    25.55     25.85               8909   \n550706  29/12/2020     25.83   25.79    25.55     25.83               4268   \n551267  30/12/2020      25.8   25.95    25.52     25.98              16297   \n551828  31/12/2020     25.97    25.6     25.6     25.97              33435   \n\n        NB_TRANSACTION  \n43               110.0  \n537               88.0  \n1031              66.0  \n1525              65.0  \n2019             128.0  \n...                ...  \n549586            61.0  \n550146            49.0  \n550706            39.0  \n551267           102.0  \n551828            97.0  \n\n[753 rows x 7 columns]",
      "text/html": "<div>\n<style scoped>\n    .dataframe tbody tr th:only-of-type {\n        vertical-align: middle;\n    }\n\n    .dataframe tbody tr th {\n        vertical-align: top;\n    }\n\n    .dataframe thead th {\n        text-align: right;\n    }\n</style>\n<table border=\"1\" class=\"dataframe\">\n  <thead>\n    <tr style=\"text-align: right;\">\n      <th></th>\n      <th>SEANCE</th>\n      <th>OUVERTURE</th>\n      <th>CLOTURE</th>\n      <th>PLUS_BAS</th>\n      <th>PLUS_HAUT</th>\n      <th>QUANTITE_NEGOCIEE</th>\n      <th>NB_TRANSACTION</th>\n    </tr>\n  </thead>\n  <tbody>\n    <tr>\n      <th>43</th>\n      <td>04/01/2016</td>\n      <td>35.18</td>\n      <td>36.45</td>\n      <td>34.1</td>\n      <td>36.45</td>\n      <td>6253</td>\n      <td>110.0</td>\n    </tr>\n    <tr>\n      <th>537</th>\n      <td>05/01/2016</td>\n      <td>37.98</td>\n      <td>37.0</td>\n      <td>36.74</td>\n      <td>37.98</td>\n      <td>6779</td>\n      <td>88.0</td>\n    </tr>\n    <tr>\n      <th>1031</th>\n      <td>06/01/2016</td>\n      <td>37.0</td>\n      <td>36.5</td>\n      <td>36.0</td>\n      <td>37.0</td>\n      <td>4310</td>\n      <td>66.0</td>\n    </tr>\n    <tr>\n      <th>1525</th>\n      <td>07/01/2016</td>\n      <td>36.5</td>\n      <td>35.42</td>\n      <td>35.42</td>\n      <td>36.9</td>\n      <td>4712</td>\n      <td>65.0</td>\n    </tr>\n    <tr>\n      <th>2019</th>\n      <td>08/01/2016</td>\n      <td>35.0</td>\n      <td>36.0</td>\n      <td>34.36</td>\n      <td>36.4</td>\n      <td>18727</td>\n      <td>128.0</td>\n    </tr>\n    <tr>\n      <th>...</th>\n      <td>...</td>\n      <td>...</td>\n      <td>...</td>\n      <td>...</td>\n      <td>...</td>\n      <td>...</td>\n      <td>...</td>\n    </tr>\n    <tr>\n      <th>549586</th>\n      <td>25/12/2020</td>\n      <td>25.9</td>\n      <td>25.85</td>\n      <td>25.5</td>\n      <td>26.0</td>\n      <td>7855</td>\n      <td>61.0</td>\n    </tr>\n    <tr>\n      <th>550146</th>\n      <td>28/12/2020</td>\n      <td>25.55</td>\n      <td>25.8</td>\n      <td>25.55</td>\n      <td>25.85</td>\n      <td>8909</td>\n      <td>49.0</td>\n    </tr>\n    <tr>\n      <th>550706</th>\n      <td>29/12/2020</td>\n      <td>25.83</td>\n      <td>25.79</td>\n      <td>25.55</td>\n      <td>25.83</td>\n      <td>4268</td>\n      <td>39.0</td>\n    </tr>\n    <tr>\n      <th>551267</th>\n      <td>30/12/2020</td>\n      <td>25.8</td>\n      <td>25.95</td>\n      <td>25.52</td>\n      <td>25.98</td>\n      <td>16297</td>\n      <td>102.0</td>\n    </tr>\n    <tr>\n      <th>551828</th>\n      <td>31/12/2020</td>\n      <td>25.97</td>\n      <td>25.6</td>\n      <td>25.6</td>\n      <td>25.97</td>\n      <td>33435</td>\n      <td>97.0</td>\n    </tr>\n  </tbody>\n</table>\n<p>753 rows × 7 columns</p>\n</div>"
     },
     "execution_count": 10,
     "metadata": {},
     "output_type": "execute_result"
    }
   ],
   "source": [
    "servicom_cleaned"
   ],
   "metadata": {
    "collapsed": false,
    "pycharm": {
     "name": "#%%\n"
    }
   }
  },
  {
   "cell_type": "code",
   "execution_count": 11,
   "outputs": [],
   "source": [
    "servicom_cleaned=servicom_cleaned[[\"SEANCE\",\"OUVERTURE\",\"PLUS_HAUT\",\"PLUS_BAS\",\"CLOTURE\",'QUANTITE_NEGOCIEE']]"
   ],
   "metadata": {
    "collapsed": false,
    "pycharm": {
     "name": "#%%\n"
    }
   }
  },
  {
   "cell_type": "code",
   "execution_count": 12,
   "outputs": [
    {
     "name": "stderr",
     "output_type": "stream",
     "text": [
      "C:\\Users\\hatem\\anaconda3\\lib\\site-packages\\pandas\\core\\frame.py:4441: SettingWithCopyWarning: \n",
      "A value is trying to be set on a copy of a slice from a DataFrame\n",
      "\n",
      "See the caveats in the documentation: https://pandas.pydata.org/pandas-docs/stable/user_guide/indexing.html#returning-a-view-versus-a-copy\n",
      "  return super().rename(\n"
     ]
    }
   ],
   "source": [
    "servicom_cleaned.rename(columns={\"SEANCE\":\"Date Time\",\"OUVERTURE\":\"Open\",\"PLUS_HAUT\":\"High\",\"PLUS_BAS\":\"Low\",\"CLOTURE\":\"Close\",'QUANTITE_NEGOCIEE':\"Volume\"},inplace=True)"
   ],
   "metadata": {
    "collapsed": false,
    "pycharm": {
     "name": "#%%\n"
    }
   }
  },
  {
   "cell_type": "code",
   "execution_count": 13,
   "outputs": [],
   "source": [
    "servicom_cleaned[\"Adj Close\"]=servicom_cleaned.Close"
   ],
   "metadata": {
    "collapsed": false,
    "pycharm": {
     "name": "#%%\n"
    }
   }
  },
  {
   "cell_type": "code",
   "execution_count": 14,
   "outputs": [],
   "source": [
    "servicom_cleaned.to_csv(\"./euro_cycles.csv\",index=False)"
   ],
   "metadata": {
    "collapsed": false,
    "pycharm": {
     "name": "#%%\n"
    }
   }
  }
 ],
 "metadata": {
  "kernelspec": {
   "display_name": "Python 3",
   "language": "python",
   "name": "python3"
  },
  "language_info": {
   "codemirror_mode": {
    "name": "ipython",
    "version": 2
   },
   "file_extension": ".py",
   "mimetype": "text/x-python",
   "name": "python",
   "nbconvert_exporter": "python",
   "pygments_lexer": "ipython2",
   "version": "2.7.6"
  }
 },
 "nbformat": 4,
 "nbformat_minor": 0
}