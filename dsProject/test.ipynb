{
 "cells": [
  {
   "cell_type": "code",
   "execution_count": null,
   "metadata": {
    "collapsed": true
   },
   "outputs": [],
   "source": []
  },
  {
   "cell_type": "code",
   "execution_count": 1,
   "outputs": [
    {
     "data": {
      "text/plain": "\"import requests\\nimport json\\ndata = requests.get('http://bvmt.com.tn/rest_api/rest/market/qtys')\\ndata_json=data.json()\\njson_object = json.dumps(data_json, indent = 4)\""
     },
     "execution_count": 1,
     "metadata": {},
     "output_type": "execute_result"
    }
   ],
   "source": [
    "'''import requests\n",
    "import json\n",
    "data = requests.get('http://bvmt.com.tn/rest_api/rest/market/qtys')\n",
    "data_json=data.json()\n",
    "json_object = json.dumps(data_json, indent = 4)'''"
   ],
   "metadata": {
    "collapsed": false,
    "pycharm": {
     "name": "#%%\n"
    }
   }
  },
  {
   "cell_type": "code",
   "execution_count": 2,
   "outputs": [],
   "source": [
    "import pandas as pd"
   ],
   "metadata": {
    "collapsed": false,
    "pycharm": {
     "name": "#%%\n"
    }
   }
  },
  {
   "cell_type": "code",
   "execution_count": 3,
   "outputs": [],
   "source": [
    "df=pd.read_csv('./biat-20210101-20211013.csv')"
   ],
   "metadata": {
    "collapsed": false,
    "pycharm": {
     "name": "#%%\n"
    }
   }
  },
  {
   "cell_type": "code",
   "execution_count": 4,
   "outputs": [
    {
     "data": {
      "text/plain": "    S�ance de Bourse   Open   Last  Plus haut  Plus bas  Cours Moy. Pondere  \\\n0         04/01/2021  93.50  93.29      93.50     93.29              93.438   \n1         05/01/2021  93.00  92.90      93.00     92.89              92.985   \n2         06/01/2021  92.10  92.90      92.90     92.00              92.663   \n3         07/01/2021  92.16  92.99      93.00     92.00              92.312   \n4         08/01/2021  92.99  93.00      93.29     92.96              93.011   \n..               ...    ...    ...        ...       ...                 ...   \n178       04/10/2021  62.49  62.49      62.49     62.49              62.490   \n179       05/10/2021  62.25  62.20      62.50     62.12              62.208   \n180       06/10/2021  62.20  62.01      62.70     62.01              62.137   \n181       07/10/2021  62.02  62.01      62.70     62.01              62.038   \n182       08/10/2021  62.01  62.00      62.01     61.60              62.001   \n\n     Nbre de Transactions  Quantity  Exch. Volume  \n0                      15       723      67555.96  \n1                      28      4070     378447.89  \n2                      16       855      79226.80  \n3                      65      5270     486482.52  \n4                      24       957      89011.60  \n..                    ...       ...           ...  \n178                     2       103       6436.47  \n179                    32      6768     421022.96  \n180                    66      5817     361449.48  \n181                    39      6471     401450.18  \n182                    72     10735     665578.74  \n\n[183 rows x 9 columns]",
      "text/html": "<div>\n<style scoped>\n    .dataframe tbody tr th:only-of-type {\n        vertical-align: middle;\n    }\n\n    .dataframe tbody tr th {\n        vertical-align: top;\n    }\n\n    .dataframe thead th {\n        text-align: right;\n    }\n</style>\n<table border=\"1\" class=\"dataframe\">\n  <thead>\n    <tr style=\"text-align: right;\">\n      <th></th>\n      <th>S�ance de Bourse</th>\n      <th>Open</th>\n      <th>Last</th>\n      <th>Plus haut</th>\n      <th>Plus bas</th>\n      <th>Cours Moy. Pondere</th>\n      <th>Nbre de Transactions</th>\n      <th>Quantity</th>\n      <th>Exch. Volume</th>\n    </tr>\n  </thead>\n  <tbody>\n    <tr>\n      <th>0</th>\n      <td>04/01/2021</td>\n      <td>93.50</td>\n      <td>93.29</td>\n      <td>93.50</td>\n      <td>93.29</td>\n      <td>93.438</td>\n      <td>15</td>\n      <td>723</td>\n      <td>67555.96</td>\n    </tr>\n    <tr>\n      <th>1</th>\n      <td>05/01/2021</td>\n      <td>93.00</td>\n      <td>92.90</td>\n      <td>93.00</td>\n      <td>92.89</td>\n      <td>92.985</td>\n      <td>28</td>\n      <td>4070</td>\n      <td>378447.89</td>\n    </tr>\n    <tr>\n      <th>2</th>\n      <td>06/01/2021</td>\n      <td>92.10</td>\n      <td>92.90</td>\n      <td>92.90</td>\n      <td>92.00</td>\n      <td>92.663</td>\n      <td>16</td>\n      <td>855</td>\n      <td>79226.80</td>\n    </tr>\n    <tr>\n      <th>3</th>\n      <td>07/01/2021</td>\n      <td>92.16</td>\n      <td>92.99</td>\n      <td>93.00</td>\n      <td>92.00</td>\n      <td>92.312</td>\n      <td>65</td>\n      <td>5270</td>\n      <td>486482.52</td>\n    </tr>\n    <tr>\n      <th>4</th>\n      <td>08/01/2021</td>\n      <td>92.99</td>\n      <td>93.00</td>\n      <td>93.29</td>\n      <td>92.96</td>\n      <td>93.011</td>\n      <td>24</td>\n      <td>957</td>\n      <td>89011.60</td>\n    </tr>\n    <tr>\n      <th>...</th>\n      <td>...</td>\n      <td>...</td>\n      <td>...</td>\n      <td>...</td>\n      <td>...</td>\n      <td>...</td>\n      <td>...</td>\n      <td>...</td>\n      <td>...</td>\n    </tr>\n    <tr>\n      <th>178</th>\n      <td>04/10/2021</td>\n      <td>62.49</td>\n      <td>62.49</td>\n      <td>62.49</td>\n      <td>62.49</td>\n      <td>62.490</td>\n      <td>2</td>\n      <td>103</td>\n      <td>6436.47</td>\n    </tr>\n    <tr>\n      <th>179</th>\n      <td>05/10/2021</td>\n      <td>62.25</td>\n      <td>62.20</td>\n      <td>62.50</td>\n      <td>62.12</td>\n      <td>62.208</td>\n      <td>32</td>\n      <td>6768</td>\n      <td>421022.96</td>\n    </tr>\n    <tr>\n      <th>180</th>\n      <td>06/10/2021</td>\n      <td>62.20</td>\n      <td>62.01</td>\n      <td>62.70</td>\n      <td>62.01</td>\n      <td>62.137</td>\n      <td>66</td>\n      <td>5817</td>\n      <td>361449.48</td>\n    </tr>\n    <tr>\n      <th>181</th>\n      <td>07/10/2021</td>\n      <td>62.02</td>\n      <td>62.01</td>\n      <td>62.70</td>\n      <td>62.01</td>\n      <td>62.038</td>\n      <td>39</td>\n      <td>6471</td>\n      <td>401450.18</td>\n    </tr>\n    <tr>\n      <th>182</th>\n      <td>08/10/2021</td>\n      <td>62.01</td>\n      <td>62.00</td>\n      <td>62.01</td>\n      <td>61.60</td>\n      <td>62.001</td>\n      <td>72</td>\n      <td>10735</td>\n      <td>665578.74</td>\n    </tr>\n  </tbody>\n</table>\n<p>183 rows × 9 columns</p>\n</div>"
     },
     "execution_count": 4,
     "metadata": {},
     "output_type": "execute_result"
    }
   ],
   "source": [
    "df\n"
   ],
   "metadata": {
    "collapsed": false,
    "pycharm": {
     "name": "#%%\n"
    }
   }
  },
  {
   "cell_type": "code",
   "execution_count": 5,
   "outputs": [
    {
     "data": {
      "text/plain": "Index(['S�ance de Bourse', 'Open', 'Last', 'Plus haut', 'Plus bas',\n       'Cours Moy. Pondere', 'Nbre de Transactions', 'Quantity',\n       'Exch. Volume'],\n      dtype='object')"
     },
     "execution_count": 5,
     "metadata": {},
     "output_type": "execute_result"
    }
   ],
   "source": [
    "df.columns"
   ],
   "metadata": {
    "collapsed": false,
    "pycharm": {
     "name": "#%%\n"
    }
   }
  },
  {
   "cell_type": "code",
   "execution_count": 6,
   "outputs": [
    {
     "data": {
      "text/plain": "pandas.core.series.Series"
     },
     "execution_count": 6,
     "metadata": {},
     "output_type": "execute_result"
    }
   ],
   "source": [
    "type(df['S�ance de Bourse'])"
   ],
   "metadata": {
    "collapsed": false,
    "pycharm": {
     "name": "#%%\n"
    }
   }
  },
  {
   "cell_type": "code",
   "execution_count": 7,
   "outputs": [],
   "source": [
    "# Reindex data using a DatetimeIndex\n",
    "df.set_index(pd.DatetimeIndex(df['S�ance de Bourse']), inplace=True)\n",
    "# Keep only the 'Adj Close' Value\n",
    "df = df[['Cours Moy. Pondere']]"
   ],
   "metadata": {
    "collapsed": false,
    "pycharm": {
     "name": "#%%\n"
    }
   }
  },
  {
   "cell_type": "code",
   "execution_count": 8,
   "outputs": [],
   "source": [
    "df1=df.copy()"
   ],
   "metadata": {
    "collapsed": false,
    "pycharm": {
     "name": "#%%\n"
    }
   }
  },
  {
   "cell_type": "code",
   "execution_count": 9,
   "outputs": [
    {
     "name": "stdout",
     "output_type": "stream",
     "text": [
      "<class 'pandas.core.frame.DataFrame'>\n",
      "DatetimeIndex: 183 entries, 2021-04-01 to 2021-08-10\n",
      "Data columns (total 1 columns):\n",
      " #   Column              Non-Null Count  Dtype  \n",
      "---  ------              --------------  -----  \n",
      " 0   Cours Moy. Pondere  183 non-null    float64\n",
      "dtypes: float64(1)\n",
      "memory usage: 2.9 KB\n"
     ]
    }
   ],
   "source": [
    "df.info()"
   ],
   "metadata": {
    "collapsed": false,
    "pycharm": {
     "name": "#%%\n"
    }
   }
  },
  {
   "cell_type": "code",
   "execution_count": 10,
   "outputs": [],
   "source": [
    "#!pip install pandas_ta"
   ],
   "metadata": {
    "collapsed": false,
    "pycharm": {
     "name": "#%%\n"
    }
   }
  },
  {
   "cell_type": "code",
   "execution_count": 11,
   "outputs": [
    {
     "name": "stderr",
     "output_type": "stream",
     "text": [
      "C:\\Users\\hatem\\anaconda3\\lib\\site-packages\\pandas_ta\\core.py:426: SettingWithCopyWarning: \n",
      "A value is trying to be set on a copy of a slice from a DataFrame.\n",
      "Try using .loc[row_indexer,col_indexer] = value instead\n",
      "\n",
      "See the caveats in the documentation: https://pandas.pydata.org/pandas-docs/stable/user_guide/indexing.html#returning-a-view-versus-a-copy\n",
      "  df[ind_name] = result\n"
     ]
    },
    {
     "data": {
      "text/plain": "S�ance de Bourse\n2021-04-01        NaN\n2021-05-01        NaN\n2021-06-01        NaN\n2021-07-01        NaN\n2021-08-01        NaN\n               ...   \n2021-04-10    62.5500\n2021-05-10    62.4796\n2021-06-10    62.3775\n2021-07-10    62.2901\n2021-08-10    62.2055\nName: SMA_10, Length: 183, dtype: float64"
     },
     "execution_count": 11,
     "metadata": {},
     "output_type": "execute_result"
    }
   ],
   "source": [
    "import pandas_ta\n",
    "# Add EMA to dataframe by appending\n",
    "# Note: pandas_ta integrates seamlessly into\n",
    "# our existing dataframe\n",
    "df.ta.ema(close='Cours Moy. Pondere', length=10, append=True)\n",
    "df1.ta.sma(close='Cours Moy. Pondere', length=10, append=True)"
   ],
   "metadata": {
    "collapsed": false,
    "pycharm": {
     "name": "#%%\n"
    }
   }
  },
  {
   "cell_type": "code",
   "execution_count": 12,
   "outputs": [],
   "source": [
    "df = df.iloc[10:]\n",
    "df1 = df1.iloc[10:]"
   ],
   "metadata": {
    "collapsed": false,
    "pycharm": {
     "name": "#%%\n"
    }
   }
  },
  {
   "cell_type": "code",
   "execution_count": 13,
   "outputs": [],
   "source": [
    "from sklearn.model_selection import train_test_split\n",
    "X_train, X_test, y_train, y_test = train_test_split(df[['Cours Moy. Pondere']], df[['EMA_10']], test_size=.2)"
   ],
   "metadata": {
    "collapsed": false,
    "pycharm": {
     "name": "#%%\n"
    }
   }
  },
  {
   "cell_type": "code",
   "execution_count": 14,
   "outputs": [],
   "source": [
    "from sklearn.model_selection import train_test_split\n",
    "X_train1, X_test1, y_train1, y_test1 = train_test_split(df1[['Cours Moy. Pondere']], df1[['SMA_10']], test_size=.2)"
   ],
   "metadata": {
    "collapsed": false,
    "pycharm": {
     "name": "#%%\n"
    }
   }
  },
  {
   "cell_type": "code",
   "execution_count": 15,
   "outputs": [
    {
     "data": {
      "text/plain": "LinearRegression()"
     },
     "execution_count": 15,
     "metadata": {},
     "output_type": "execute_result"
    }
   ],
   "source": [
    "from sklearn.linear_model import LinearRegression\n",
    "# Create Regression Model\n",
    "model = LinearRegression()\n",
    "# Train the model\n",
    "model.fit(X_train, y_train)\n",
    "model1=LinearRegression()\n",
    "model1.fit(X_train1,y_train)"
   ],
   "metadata": {
    "collapsed": false,
    "pycharm": {
     "name": "#%%\n"
    }
   }
  },
  {
   "cell_type": "code",
   "execution_count": 16,
   "outputs": [],
   "source": [
    "y_pred=model.predict(X_test)\n",
    "y_pred1=model1.predict(X_test1)"
   ],
   "metadata": {
    "collapsed": false,
    "pycharm": {
     "name": "#%%\n"
    }
   }
  },
  {
   "cell_type": "code",
   "execution_count": 17,
   "outputs": [
    {
     "data": {
      "text/plain": "array([[ 65.1514385 ],\n       [105.37562294],\n       [ 92.79737053],\n       [ 94.6151608 ],\n       [ 65.23171383],\n       [ 67.19935139],\n       [ 91.82425513],\n       [ 64.89366549],\n       [ 64.30854752],\n       [ 65.11932837],\n       [ 65.0791907 ],\n       [ 67.23502931],\n       [ 94.01398776],\n       [ 94.28870779],\n       [ 94.51615456],\n       [ 93.24156069],\n       [ 65.16660162],\n       [ 66.05052221],\n       [ 66.26191391],\n       [ 92.59935804],\n       [ 98.47729616],\n       [ 65.07829875],\n       [ 93.22639757],\n       [ 65.12824785],\n       [ 65.28523072],\n       [ 64.94807433],\n       [ 92.6671461 ],\n       [111.52292939],\n       [106.85447292],\n       [ 65.00248316],\n       [111.52203744],\n       [ 65.14876265],\n       [ 65.11576057],\n       [111.84670656],\n       [ 66.49025263]])"
     },
     "execution_count": 17,
     "metadata": {},
     "output_type": "execute_result"
    }
   ],
   "source": [
    "y_pred"
   ],
   "metadata": {
    "collapsed": false,
    "pycharm": {
     "name": "#%%\n"
    }
   }
  },
  {
   "cell_type": "code",
   "execution_count": 22,
   "outputs": [
    {
     "name": "stdout",
     "output_type": "stream",
     "text": [
      "la valeur predit  dexpo est [65.1514385] la valeur predit desimple[78.7208079]contre 62.38709033117128 et 63.6998\n",
      "la valeur predit  dexpo est [105.37562294] la valeur predit desimple[78.75259062]contre 103.59712251816686 et 62.9423\n",
      "la valeur predit  dexpo est [92.79737053] la valeur predit desimple[78.67898854]contre 92.7030831115388 et 62.3775\n",
      "la valeur predit  dexpo est [94.6151608] la valeur predit desimple[80.36924612]contre 94.22176242802716 et 93.2557\n",
      "la valeur predit  dexpo est [65.23171383] la valeur predit desimple[80.30945793]contre 62.508558906276946 et 93.9375\n",
      "la valeur predit  dexpo est [67.19935139] la valeur predit desimple[80.47506259]contre 63.700249212329126 et 92.83070000000001\n",
      "la valeur predit  dexpo est [91.82425513] la valeur predit desimple[80.2786465]contre 92.69222854996242 et 92.8792\n",
      "la valeur predit  dexpo est [64.89366549] la valeur predit desimple[78.75868815]contre 62.63977234175835 et 100.78689999999999\n",
      "la valeur predit  dexpo est [64.30854752] la valeur predit desimple[78.6895648]contre 65.55431204960006 et 62.05250000000001\n",
      "la valeur predit  dexpo est [65.11932837] la valeur predit desimple[81.37156174]contre 62.44065572819262 et 114.1176\n",
      "la valeur predit  dexpo est [65.0791907] la valeur predit desimple[78.69695738]contre 62.3701551153649 et 62.450199999999995\n",
      "la valeur predit  dexpo est [67.23502931] la valeur predit desimple[80.34712233]contre 99.02893636096 et 92.7111\n",
      "la valeur predit  dexpo est [94.01398776] la valeur predit desimple[80.44290216]contre 94.25030783796794 et 92.6234\n",
      "la valeur predit  dexpo est [94.28870779] la valeur predit desimple[78.69776679]contre 93.81392155395325 et 62.94199999999999\n",
      "la valeur predit  dexpo est [94.51615456] la valeur predit desimple[80.40016547]contre 93.51323745483175 et 94.2807\n",
      "la valeur predit  dexpo est [93.24156069] la valeur predit desimple[78.75356191]contre 93.84648127141628 et 63.832800000000006\n",
      "la valeur predit  dexpo est [65.16660162] la valeur predit desimple[78.69792867]contre 62.427804271279946 et 62.4702\n",
      "la valeur predit  dexpo est [66.05052221] la valeur predit desimple[80.32947726]contre 63.74040646691422 et 92.63759999999999\n",
      "la valeur predit  dexpo est [66.26191391] la valeur predit desimple[81.65771408]contre 62.94424772809076 et 113.86449999999999\n",
      "la valeur predit  dexpo est [92.59935804] la valeur predit desimple[78.72555643]contre 93.1295035601105 et 62.589200000000005\n",
      "la valeur predit  dexpo est [98.47729616] la valeur predit desimple[81.50392676]contre 95.49154481399918 et 113.2971\n",
      "la valeur predit  dexpo est [65.07829875] la valeur predit desimple[80.3784194]contre 62.4385905528568 et 93.1787\n",
      "la valeur predit  dexpo est [93.22639757] la valeur predit desimple[78.69803659]contre 94.1650641047124 et 62.55\n",
      "la valeur predit  dexpo est [65.12824785] la valeur predit desimple[80.40593924]contre 62.44500947085682 et 94.1277\n",
      "la valeur predit  dexpo est [65.28523072] la valeur predit desimple[78.67218953]contre 62.4904608854496 et 62.414\n",
      "la valeur predit  dexpo est [64.94807433] la valeur predit desimple[78.70213758]contre 62.352308730753094 et 68.8625\n",
      "la valeur predit  dexpo est [92.6671461] la valeur predit desimple[78.76510945]contre 94.08643368561013 et 63.830200000000005\n",
      "la valeur predit  dexpo est [111.52292939] la valeur predit desimple[80.33023271]contre 113.15707669068011 et 92.6541\n",
      "la valeur predit  dexpo est [106.85447292] la valeur predit desimple[78.67364646]contre 105.3138258179464 et 62.29010000000001\n",
      "la valeur predit  dexpo est [65.00248316] la valeur predit desimple[78.71433265]contre 62.444560508746676 et 74.5223\n",
      "la valeur predit  dexpo est [111.52203744] la valeur predit desimple[80.41338578]contre 112.51822567373205 et 93.50139999999999\n",
      "la valeur predit  dexpo est [65.14876265] la valeur predit desimple[78.68298162]contre 62.44942467162716 et 61.89090000000001\n",
      "la valeur predit  dexpo est [65.11576057] la valeur predit desimple[80.33077231]contre 62.44248317961011 et 92.6875\n",
      "la valeur predit  dexpo est [111.84670656] la valeur predit desimple[78.6999252]contre 111.29598327925319 et 63.153000000000006\n",
      "la valeur predit  dexpo est [66.49025263] la valeur predit desimple[81.63758683]contre 63.80517509255089 et 109.95819999999999\n"
     ]
    }
   ],
   "source": [
    "for i in range(len(y_pred)):\n",
    "    print(\"la valeur predit  dexpo est \" +str(y_pred[i])+\" la valeur predit desimple\"+str(y_pred1[i]) +\"contre \"+ str(y_test[\"EMA_10\"][i]) +\" et \"+ str(y_test1[\"SMA_10\"][i]))"
   ],
   "metadata": {
    "collapsed": false,
    "pycharm": {
     "name": "#%%\n"
    }
   }
  },
  {
   "cell_type": "code",
   "execution_count": 19,
   "outputs": [
    {
     "name": "stdout",
     "output_type": "stream",
     "text": [
      "Model Coefficients: [[0.89194812]]\n",
      "Mean Absolute Error: 2.726063302072127\n",
      "Coefficient of Determination: 0.903743050677003\n"
     ]
    }
   ],
   "source": [
    "from sklearn.metrics import mean_squared_error, r2_score, mean_absolute_error\n",
    "# Printout relevant metrics\n",
    "print(\"Model Coefficients:\", model.coef_)\n",
    "print(\"Mean Absolute Error:\", mean_absolute_error(y_test, y_pred))\n",
    "print(\"Coefficient of Determination:\", r2_score(y_test, y_pred))"
   ],
   "metadata": {
    "collapsed": false,
    "pycharm": {
     "name": "#%%\n"
    }
   }
  },
  {
   "cell_type": "code",
   "execution_count": 20,
   "outputs": [
    {
     "name": "stdout",
     "output_type": "stream",
     "text": [
      "Model Coefficients: [[0.05396046]]\n",
      "Mean Absolute Error: 16.192624992119185\n",
      "Coefficient of Determination: 0.09374385284906062\n"
     ]
    }
   ],
   "source": [
    "from sklearn.metrics import mean_squared_error, r2_score, mean_absolute_error\n",
    "# Printout relevant metrics\n",
    "print(\"Model Coefficients:\", model1.coef_)\n",
    "print(\"Mean Absolute Error:\", mean_absolute_error(y_test1, y_pred1))\n",
    "print(\"Coefficient of Determination:\", r2_score(y_test1, y_pred1))"
   ],
   "metadata": {
    "collapsed": false,
    "pycharm": {
     "name": "#%%\n"
    }
   }
  },
  {
   "cell_type": "code",
   "execution_count": 21,
   "outputs": [
    {
     "data": {
      "text/plain": "\"import joblib\\njoblib.dump(model, 'model.joblib')\""
     },
     "execution_count": 21,
     "metadata": {},
     "output_type": "execute_result"
    }
   ],
   "source": [
    "import sklearn.externals\n",
    "'''import joblib\n",
    "joblib.dump(model, 'model.joblib')'''"
   ],
   "metadata": {
    "collapsed": false,
    "pycharm": {
     "name": "#%%\n"
    }
   }
  }
 ],
 "metadata": {
  "kernelspec": {
   "display_name": "Python 3",
   "language": "python",
   "name": "python3"
  },
  "language_info": {
   "codemirror_mode": {
    "name": "ipython",
    "version": 2
   },
   "file_extension": ".py",
   "mimetype": "text/x-python",
   "name": "python",
   "nbconvert_exporter": "python",
   "pygments_lexer": "ipython2",
   "version": "2.7.6"
  }
 },
 "nbformat": 4,
 "nbformat_minor": 0
}